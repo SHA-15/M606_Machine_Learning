{
 "cells": [
  {
   "cell_type": "markdown",
   "id": "a31ba436-97da-483e-8bfd-0afe29ce39b3",
   "metadata": {},
   "source": [
    "![6](submission_page.png)"
   ]
  },
  {
   "cell_type": "markdown",
   "id": "86d17e44-6f63-472c-a167-a593ad72f254",
   "metadata": {},
   "source": [
    "# 1. Business Problem Definition\n",
    "\n",
    "### Alzheimer's Disease Dataset\n",
    "\n",
    "**Dataset Link: `https://www.kaggle.com/datasets/rabieelkharoua/alzheimers-disease-dataset/data`**\n",
    "**Github Repo: `https://github.com/SHA-15/M606_Machine_Learning`**\n",
    "\n",
    "Alzheimer's impacts global health severely with thousands of studies and trials conducted to support and treat millions of patients and families within healthcare. Predictive determination of Alzheimer's utlizing the necessary indicators within patients can timely provide the necessary healthcare inteventions to improve quality of life progressively. Leveraging the following dataset, R&D efforts can be fine-tuned to better understand the disease, potentially give access to breakthrough technologies, procedures and treatments to yield better outputs for the individuals that suffer from such a disease."
   ]
  },
  {
   "cell_type": "markdown",
   "id": "3f3daea8-48c0-4304-a6cd-5fbd89e3066b",
   "metadata": {},
   "source": [
    "# 2. Importing the necessary libraries\n",
    "\n",
    "The target_variable within the dataset is **Diagnosis** which is identified as a Binary Classification Problem and hence I will be utilizing Classification Models and Evaluation metrics for the ML pipeline."
   ]
  },
  {
   "cell_type": "markdown",
   "id": "2db75dc4-6d5d-4c88-b179-48d940c1ab43",
   "metadata": {},
   "source": [
    "### 2.1 EDA and Plotting Libraries"
   ]
  },
  {
   "cell_type": "code",
   "execution_count": 1,
   "id": "5309917a-c408-48fe-a337-4d79873f5543",
   "metadata": {},
   "outputs": [],
   "source": [
    "import numpy\n",
    "import pandas\n",
    "import matplotlib.pyplot as pyplot\n",
    "import seaborn\n",
    "import plotly.express"
   ]
  },
  {
   "cell_type": "markdown",
   "id": "1941b65c-cd70-47df-9650-a221add7dfaa",
   "metadata": {},
   "source": [
    "### 2.2 Data Preprocessing and Feature Engineering"
   ]
  },
  {
   "cell_type": "code",
   "execution_count": 2,
   "id": "6014c067-a48c-471b-acd5-76258867b83b",
   "metadata": {},
   "outputs": [],
   "source": [
    "from sklearn.model_selection import train_test_split\n",
    "from sklearn.preprocessing import StandardScaler, OneHotEncoder\n",
    "from sklearn.compose import ColumnTransformer\n",
    "from imblearn.over_sampling import SMOTE as smote\n",
    "from sklearn.feature_selection import SelectKBest, f_classif"
   ]
  },
  {
   "cell_type": "markdown",
   "id": "d86ed6c8-1ffd-4a3f-8233-e11f5a7c66d9",
   "metadata": {},
   "source": [
    "### 2.3 Scikit-Learn Models"
   ]
  },
  {
   "cell_type": "code",
   "execution_count": 35,
   "id": "5785e5c1-89a9-4752-a580-7bd6ddff8a4e",
   "metadata": {},
   "outputs": [],
   "source": [
    "import warnings\n",
    "from sklearn.exceptions import ConvergenceWarning as CW, FitFailedWarning as FW\n",
    "from sklearn.linear_model import LogisticRegression\n",
    "from sklearn.ensemble import RandomForestClassifier, GradientBoostingClassifier\n",
    "from sklearn.tree import DecisionTreeClassifier"
   ]
  },
  {
   "cell_type": "markdown",
   "id": "e60b03ca-0422-4580-884c-d4745a23b031",
   "metadata": {},
   "source": [
    "### 2.4 Classification evaluation Metrics"
   ]
  },
  {
   "cell_type": "code",
   "execution_count": 4,
   "id": "68c18ce2-645a-4dca-b702-571c4b919212",
   "metadata": {},
   "outputs": [],
   "source": [
    "from sklearn.model_selection import cross_val_score\n",
    "from sklearn.metrics import accuracy_score, precision_score, classification_report, confusion_matrix, f1_score, recall_score\n",
    "from sklearn.metrics import RocCurveDisplay"
   ]
  },
  {
   "cell_type": "markdown",
   "id": "0cc318ef-aec6-4746-9d92-0d0a7ea297cc",
   "metadata": {},
   "source": [
    "### 2.5 Optimization and Hyperparameter Tuning"
   ]
  },
  {
   "cell_type": "code",
   "execution_count": 5,
   "id": "c12ac85a-fe70-4123-86f1-d2694d9afd9b",
   "metadata": {},
   "outputs": [],
   "source": [
    "from sklearn.model_selection import GridSearchCV, RandomizedSearchCV"
   ]
  },
  {
   "cell_type": "markdown",
   "id": "37de2b2f-07f8-40ae-81c6-4e7094df2233",
   "metadata": {},
   "source": [
    "# 3. Loading the Data"
   ]
  },
  {
   "cell_type": "code",
   "execution_count": 6,
   "id": "75633b3f-f35b-4152-b6cf-adcf1874615b",
   "metadata": {},
   "outputs": [],
   "source": [
    "alz_dis_df = pandas.read_csv(\"alzheimers_disease_data.csv\") "
   ]
  },
  {
   "cell_type": "markdown",
   "id": "a315a4f6-9602-493f-adab-dc7f13819f77",
   "metadata": {},
   "source": [
    "# 4. Exploratory Data Analysis (EDA)\n",
    "\n",
    "**EDA is used to get accustomed to critical information within the dataset and identify the core of the relationships between the target label and its prevalent features**"
   ]
  },
  {
   "cell_type": "markdown",
   "id": "4dd2dee5-1c10-42a2-8b47-5c5c21d0bf88",
   "metadata": {},
   "source": [
    "### 4.1 Dataset View\n",
    "\n",
    "To maximize the window to view all the columns in the dataset, The `.set_option()` method in pandas is used."
   ]
  },
  {
   "cell_type": "code",
   "execution_count": 7,
   "id": "32ccd1a9-3c1c-4cbf-80de-2cf6aaf9d238",
   "metadata": {},
   "outputs": [
    {
     "data": {
      "text/html": [
       "<div>\n",
       "<style scoped>\n",
       "    .dataframe tbody tr th:only-of-type {\n",
       "        vertical-align: middle;\n",
       "    }\n",
       "\n",
       "    .dataframe tbody tr th {\n",
       "        vertical-align: top;\n",
       "    }\n",
       "\n",
       "    .dataframe thead th {\n",
       "        text-align: right;\n",
       "    }\n",
       "</style>\n",
       "<table border=\"1\" class=\"dataframe\">\n",
       "  <thead>\n",
       "    <tr style=\"text-align: right;\">\n",
       "      <th></th>\n",
       "      <th>PatientID</th>\n",
       "      <th>Age</th>\n",
       "      <th>Gender</th>\n",
       "      <th>Ethnicity</th>\n",
       "      <th>EducationLevel</th>\n",
       "      <th>BMI</th>\n",
       "      <th>Smoking</th>\n",
       "      <th>AlcoholConsumption</th>\n",
       "      <th>PhysicalActivity</th>\n",
       "      <th>DietQuality</th>\n",
       "      <th>SleepQuality</th>\n",
       "      <th>FamilyHistoryAlzheimers</th>\n",
       "      <th>CardiovascularDisease</th>\n",
       "      <th>Diabetes</th>\n",
       "      <th>Depression</th>\n",
       "      <th>HeadInjury</th>\n",
       "      <th>Hypertension</th>\n",
       "      <th>SystolicBP</th>\n",
       "      <th>DiastolicBP</th>\n",
       "      <th>CholesterolTotal</th>\n",
       "      <th>CholesterolLDL</th>\n",
       "      <th>CholesterolHDL</th>\n",
       "      <th>CholesterolTriglycerides</th>\n",
       "      <th>MMSE</th>\n",
       "      <th>FunctionalAssessment</th>\n",
       "      <th>MemoryComplaints</th>\n",
       "      <th>BehavioralProblems</th>\n",
       "      <th>ADL</th>\n",
       "      <th>Confusion</th>\n",
       "      <th>Disorientation</th>\n",
       "      <th>PersonalityChanges</th>\n",
       "      <th>DifficultyCompletingTasks</th>\n",
       "      <th>Forgetfulness</th>\n",
       "      <th>Diagnosis</th>\n",
       "      <th>DoctorInCharge</th>\n",
       "    </tr>\n",
       "  </thead>\n",
       "  <tbody>\n",
       "    <tr>\n",
       "      <th>0</th>\n",
       "      <td>4751</td>\n",
       "      <td>73</td>\n",
       "      <td>0</td>\n",
       "      <td>0</td>\n",
       "      <td>2</td>\n",
       "      <td>22.927749</td>\n",
       "      <td>0</td>\n",
       "      <td>13.297218</td>\n",
       "      <td>6.327112</td>\n",
       "      <td>1.347214</td>\n",
       "      <td>9.025679</td>\n",
       "      <td>0</td>\n",
       "      <td>0</td>\n",
       "      <td>1</td>\n",
       "      <td>1</td>\n",
       "      <td>0</td>\n",
       "      <td>0</td>\n",
       "      <td>142</td>\n",
       "      <td>72</td>\n",
       "      <td>242.366840</td>\n",
       "      <td>56.150897</td>\n",
       "      <td>33.682563</td>\n",
       "      <td>162.189143</td>\n",
       "      <td>21.463532</td>\n",
       "      <td>6.518877</td>\n",
       "      <td>0</td>\n",
       "      <td>0</td>\n",
       "      <td>1.725883</td>\n",
       "      <td>0</td>\n",
       "      <td>0</td>\n",
       "      <td>0</td>\n",
       "      <td>1</td>\n",
       "      <td>0</td>\n",
       "      <td>0</td>\n",
       "      <td>XXXConfid</td>\n",
       "    </tr>\n",
       "    <tr>\n",
       "      <th>1</th>\n",
       "      <td>4752</td>\n",
       "      <td>89</td>\n",
       "      <td>0</td>\n",
       "      <td>0</td>\n",
       "      <td>0</td>\n",
       "      <td>26.827681</td>\n",
       "      <td>0</td>\n",
       "      <td>4.542524</td>\n",
       "      <td>7.619885</td>\n",
       "      <td>0.518767</td>\n",
       "      <td>7.151293</td>\n",
       "      <td>0</td>\n",
       "      <td>0</td>\n",
       "      <td>0</td>\n",
       "      <td>0</td>\n",
       "      <td>0</td>\n",
       "      <td>0</td>\n",
       "      <td>115</td>\n",
       "      <td>64</td>\n",
       "      <td>231.162595</td>\n",
       "      <td>193.407996</td>\n",
       "      <td>79.028477</td>\n",
       "      <td>294.630909</td>\n",
       "      <td>20.613267</td>\n",
       "      <td>7.118696</td>\n",
       "      <td>0</td>\n",
       "      <td>0</td>\n",
       "      <td>2.592424</td>\n",
       "      <td>0</td>\n",
       "      <td>0</td>\n",
       "      <td>0</td>\n",
       "      <td>0</td>\n",
       "      <td>1</td>\n",
       "      <td>0</td>\n",
       "      <td>XXXConfid</td>\n",
       "    </tr>\n",
       "    <tr>\n",
       "      <th>2</th>\n",
       "      <td>4753</td>\n",
       "      <td>73</td>\n",
       "      <td>0</td>\n",
       "      <td>3</td>\n",
       "      <td>1</td>\n",
       "      <td>17.795882</td>\n",
       "      <td>0</td>\n",
       "      <td>19.555085</td>\n",
       "      <td>7.844988</td>\n",
       "      <td>1.826335</td>\n",
       "      <td>9.673574</td>\n",
       "      <td>1</td>\n",
       "      <td>0</td>\n",
       "      <td>0</td>\n",
       "      <td>0</td>\n",
       "      <td>0</td>\n",
       "      <td>0</td>\n",
       "      <td>99</td>\n",
       "      <td>116</td>\n",
       "      <td>284.181858</td>\n",
       "      <td>153.322762</td>\n",
       "      <td>69.772292</td>\n",
       "      <td>83.638324</td>\n",
       "      <td>7.356249</td>\n",
       "      <td>5.895077</td>\n",
       "      <td>0</td>\n",
       "      <td>0</td>\n",
       "      <td>7.119548</td>\n",
       "      <td>0</td>\n",
       "      <td>1</td>\n",
       "      <td>0</td>\n",
       "      <td>1</td>\n",
       "      <td>0</td>\n",
       "      <td>0</td>\n",
       "      <td>XXXConfid</td>\n",
       "    </tr>\n",
       "    <tr>\n",
       "      <th>3</th>\n",
       "      <td>4754</td>\n",
       "      <td>74</td>\n",
       "      <td>1</td>\n",
       "      <td>0</td>\n",
       "      <td>1</td>\n",
       "      <td>33.800817</td>\n",
       "      <td>1</td>\n",
       "      <td>12.209266</td>\n",
       "      <td>8.428001</td>\n",
       "      <td>7.435604</td>\n",
       "      <td>8.392554</td>\n",
       "      <td>0</td>\n",
       "      <td>0</td>\n",
       "      <td>0</td>\n",
       "      <td>0</td>\n",
       "      <td>0</td>\n",
       "      <td>0</td>\n",
       "      <td>118</td>\n",
       "      <td>115</td>\n",
       "      <td>159.582240</td>\n",
       "      <td>65.366637</td>\n",
       "      <td>68.457491</td>\n",
       "      <td>277.577358</td>\n",
       "      <td>13.991127</td>\n",
       "      <td>8.965106</td>\n",
       "      <td>0</td>\n",
       "      <td>1</td>\n",
       "      <td>6.481226</td>\n",
       "      <td>0</td>\n",
       "      <td>0</td>\n",
       "      <td>0</td>\n",
       "      <td>0</td>\n",
       "      <td>0</td>\n",
       "      <td>0</td>\n",
       "      <td>XXXConfid</td>\n",
       "    </tr>\n",
       "    <tr>\n",
       "      <th>4</th>\n",
       "      <td>4755</td>\n",
       "      <td>89</td>\n",
       "      <td>0</td>\n",
       "      <td>0</td>\n",
       "      <td>0</td>\n",
       "      <td>20.716974</td>\n",
       "      <td>0</td>\n",
       "      <td>18.454356</td>\n",
       "      <td>6.310461</td>\n",
       "      <td>0.795498</td>\n",
       "      <td>5.597238</td>\n",
       "      <td>0</td>\n",
       "      <td>0</td>\n",
       "      <td>0</td>\n",
       "      <td>0</td>\n",
       "      <td>0</td>\n",
       "      <td>0</td>\n",
       "      <td>94</td>\n",
       "      <td>117</td>\n",
       "      <td>237.602184</td>\n",
       "      <td>92.869700</td>\n",
       "      <td>56.874305</td>\n",
       "      <td>291.198780</td>\n",
       "      <td>13.517609</td>\n",
       "      <td>6.045039</td>\n",
       "      <td>0</td>\n",
       "      <td>0</td>\n",
       "      <td>0.014691</td>\n",
       "      <td>0</td>\n",
       "      <td>0</td>\n",
       "      <td>1</td>\n",
       "      <td>1</td>\n",
       "      <td>0</td>\n",
       "      <td>0</td>\n",
       "      <td>XXXConfid</td>\n",
       "    </tr>\n",
       "    <tr>\n",
       "      <th>5</th>\n",
       "      <td>4756</td>\n",
       "      <td>86</td>\n",
       "      <td>1</td>\n",
       "      <td>1</td>\n",
       "      <td>1</td>\n",
       "      <td>30.626886</td>\n",
       "      <td>0</td>\n",
       "      <td>4.140144</td>\n",
       "      <td>0.211062</td>\n",
       "      <td>1.584922</td>\n",
       "      <td>7.261953</td>\n",
       "      <td>0</td>\n",
       "      <td>0</td>\n",
       "      <td>1</td>\n",
       "      <td>0</td>\n",
       "      <td>0</td>\n",
       "      <td>0</td>\n",
       "      <td>168</td>\n",
       "      <td>62</td>\n",
       "      <td>280.712539</td>\n",
       "      <td>198.334629</td>\n",
       "      <td>79.080503</td>\n",
       "      <td>263.943655</td>\n",
       "      <td>27.517529</td>\n",
       "      <td>5.510144</td>\n",
       "      <td>0</td>\n",
       "      <td>0</td>\n",
       "      <td>9.015686</td>\n",
       "      <td>1</td>\n",
       "      <td>0</td>\n",
       "      <td>0</td>\n",
       "      <td>0</td>\n",
       "      <td>0</td>\n",
       "      <td>0</td>\n",
       "      <td>XXXConfid</td>\n",
       "    </tr>\n",
       "    <tr>\n",
       "      <th>6</th>\n",
       "      <td>4757</td>\n",
       "      <td>68</td>\n",
       "      <td>0</td>\n",
       "      <td>3</td>\n",
       "      <td>2</td>\n",
       "      <td>38.387622</td>\n",
       "      <td>1</td>\n",
       "      <td>0.646047</td>\n",
       "      <td>9.257695</td>\n",
       "      <td>5.897388</td>\n",
       "      <td>5.477686</td>\n",
       "      <td>0</td>\n",
       "      <td>0</td>\n",
       "      <td>0</td>\n",
       "      <td>0</td>\n",
       "      <td>1</td>\n",
       "      <td>0</td>\n",
       "      <td>143</td>\n",
       "      <td>88</td>\n",
       "      <td>263.734149</td>\n",
       "      <td>52.470670</td>\n",
       "      <td>66.533369</td>\n",
       "      <td>216.489175</td>\n",
       "      <td>1.964413</td>\n",
       "      <td>6.062124</td>\n",
       "      <td>0</td>\n",
       "      <td>0</td>\n",
       "      <td>9.236328</td>\n",
       "      <td>0</td>\n",
       "      <td>0</td>\n",
       "      <td>0</td>\n",
       "      <td>0</td>\n",
       "      <td>1</td>\n",
       "      <td>0</td>\n",
       "      <td>XXXConfid</td>\n",
       "    </tr>\n",
       "    <tr>\n",
       "      <th>7</th>\n",
       "      <td>4758</td>\n",
       "      <td>75</td>\n",
       "      <td>0</td>\n",
       "      <td>0</td>\n",
       "      <td>1</td>\n",
       "      <td>18.776009</td>\n",
       "      <td>0</td>\n",
       "      <td>13.723826</td>\n",
       "      <td>4.649451</td>\n",
       "      <td>8.341903</td>\n",
       "      <td>4.213210</td>\n",
       "      <td>0</td>\n",
       "      <td>0</td>\n",
       "      <td>0</td>\n",
       "      <td>0</td>\n",
       "      <td>0</td>\n",
       "      <td>0</td>\n",
       "      <td>117</td>\n",
       "      <td>63</td>\n",
       "      <td>151.383137</td>\n",
       "      <td>69.623510</td>\n",
       "      <td>77.346816</td>\n",
       "      <td>210.570866</td>\n",
       "      <td>10.139568</td>\n",
       "      <td>3.401374</td>\n",
       "      <td>0</td>\n",
       "      <td>0</td>\n",
       "      <td>4.517248</td>\n",
       "      <td>1</td>\n",
       "      <td>0</td>\n",
       "      <td>0</td>\n",
       "      <td>0</td>\n",
       "      <td>1</td>\n",
       "      <td>1</td>\n",
       "      <td>XXXConfid</td>\n",
       "    </tr>\n",
       "    <tr>\n",
       "      <th>8</th>\n",
       "      <td>4759</td>\n",
       "      <td>72</td>\n",
       "      <td>1</td>\n",
       "      <td>1</td>\n",
       "      <td>0</td>\n",
       "      <td>27.833188</td>\n",
       "      <td>0</td>\n",
       "      <td>12.167848</td>\n",
       "      <td>1.531360</td>\n",
       "      <td>6.736882</td>\n",
       "      <td>5.748224</td>\n",
       "      <td>0</td>\n",
       "      <td>0</td>\n",
       "      <td>0</td>\n",
       "      <td>0</td>\n",
       "      <td>0</td>\n",
       "      <td>1</td>\n",
       "      <td>117</td>\n",
       "      <td>119</td>\n",
       "      <td>233.605755</td>\n",
       "      <td>144.045740</td>\n",
       "      <td>43.075893</td>\n",
       "      <td>151.164186</td>\n",
       "      <td>25.820732</td>\n",
       "      <td>7.396061</td>\n",
       "      <td>0</td>\n",
       "      <td>1</td>\n",
       "      <td>0.756232</td>\n",
       "      <td>0</td>\n",
       "      <td>0</td>\n",
       "      <td>1</td>\n",
       "      <td>0</td>\n",
       "      <td>0</td>\n",
       "      <td>0</td>\n",
       "      <td>XXXConfid</td>\n",
       "    </tr>\n",
       "    <tr>\n",
       "      <th>9</th>\n",
       "      <td>4760</td>\n",
       "      <td>87</td>\n",
       "      <td>0</td>\n",
       "      <td>0</td>\n",
       "      <td>0</td>\n",
       "      <td>35.456302</td>\n",
       "      <td>1</td>\n",
       "      <td>16.028688</td>\n",
       "      <td>6.440773</td>\n",
       "      <td>8.086019</td>\n",
       "      <td>7.551773</td>\n",
       "      <td>0</td>\n",
       "      <td>1</td>\n",
       "      <td>0</td>\n",
       "      <td>0</td>\n",
       "      <td>0</td>\n",
       "      <td>0</td>\n",
       "      <td>130</td>\n",
       "      <td>78</td>\n",
       "      <td>281.630050</td>\n",
       "      <td>130.497580</td>\n",
       "      <td>74.291247</td>\n",
       "      <td>144.175975</td>\n",
       "      <td>28.388409</td>\n",
       "      <td>1.148904</td>\n",
       "      <td>0</td>\n",
       "      <td>1</td>\n",
       "      <td>4.554394</td>\n",
       "      <td>0</td>\n",
       "      <td>0</td>\n",
       "      <td>0</td>\n",
       "      <td>0</td>\n",
       "      <td>0</td>\n",
       "      <td>0</td>\n",
       "      <td>XXXConfid</td>\n",
       "    </tr>\n",
       "  </tbody>\n",
       "</table>\n",
       "</div>"
      ],
      "text/plain": [
       "   PatientID  Age  Gender  Ethnicity  EducationLevel        BMI  Smoking  \\\n",
       "0       4751   73       0          0               2  22.927749        0   \n",
       "1       4752   89       0          0               0  26.827681        0   \n",
       "2       4753   73       0          3               1  17.795882        0   \n",
       "3       4754   74       1          0               1  33.800817        1   \n",
       "4       4755   89       0          0               0  20.716974        0   \n",
       "5       4756   86       1          1               1  30.626886        0   \n",
       "6       4757   68       0          3               2  38.387622        1   \n",
       "7       4758   75       0          0               1  18.776009        0   \n",
       "8       4759   72       1          1               0  27.833188        0   \n",
       "9       4760   87       0          0               0  35.456302        1   \n",
       "\n",
       "   AlcoholConsumption  PhysicalActivity  DietQuality  SleepQuality  \\\n",
       "0           13.297218          6.327112     1.347214      9.025679   \n",
       "1            4.542524          7.619885     0.518767      7.151293   \n",
       "2           19.555085          7.844988     1.826335      9.673574   \n",
       "3           12.209266          8.428001     7.435604      8.392554   \n",
       "4           18.454356          6.310461     0.795498      5.597238   \n",
       "5            4.140144          0.211062     1.584922      7.261953   \n",
       "6            0.646047          9.257695     5.897388      5.477686   \n",
       "7           13.723826          4.649451     8.341903      4.213210   \n",
       "8           12.167848          1.531360     6.736882      5.748224   \n",
       "9           16.028688          6.440773     8.086019      7.551773   \n",
       "\n",
       "   FamilyHistoryAlzheimers  CardiovascularDisease  Diabetes  Depression  \\\n",
       "0                        0                      0         1           1   \n",
       "1                        0                      0         0           0   \n",
       "2                        1                      0         0           0   \n",
       "3                        0                      0         0           0   \n",
       "4                        0                      0         0           0   \n",
       "5                        0                      0         1           0   \n",
       "6                        0                      0         0           0   \n",
       "7                        0                      0         0           0   \n",
       "8                        0                      0         0           0   \n",
       "9                        0                      1         0           0   \n",
       "\n",
       "   HeadInjury  Hypertension  SystolicBP  DiastolicBP  CholesterolTotal  \\\n",
       "0           0             0         142           72        242.366840   \n",
       "1           0             0         115           64        231.162595   \n",
       "2           0             0          99          116        284.181858   \n",
       "3           0             0         118          115        159.582240   \n",
       "4           0             0          94          117        237.602184   \n",
       "5           0             0         168           62        280.712539   \n",
       "6           1             0         143           88        263.734149   \n",
       "7           0             0         117           63        151.383137   \n",
       "8           0             1         117          119        233.605755   \n",
       "9           0             0         130           78        281.630050   \n",
       "\n",
       "   CholesterolLDL  CholesterolHDL  CholesterolTriglycerides       MMSE  \\\n",
       "0       56.150897       33.682563                162.189143  21.463532   \n",
       "1      193.407996       79.028477                294.630909  20.613267   \n",
       "2      153.322762       69.772292                 83.638324   7.356249   \n",
       "3       65.366637       68.457491                277.577358  13.991127   \n",
       "4       92.869700       56.874305                291.198780  13.517609   \n",
       "5      198.334629       79.080503                263.943655  27.517529   \n",
       "6       52.470670       66.533369                216.489175   1.964413   \n",
       "7       69.623510       77.346816                210.570866  10.139568   \n",
       "8      144.045740       43.075893                151.164186  25.820732   \n",
       "9      130.497580       74.291247                144.175975  28.388409   \n",
       "\n",
       "   FunctionalAssessment  MemoryComplaints  BehavioralProblems       ADL  \\\n",
       "0              6.518877                 0                   0  1.725883   \n",
       "1              7.118696                 0                   0  2.592424   \n",
       "2              5.895077                 0                   0  7.119548   \n",
       "3              8.965106                 0                   1  6.481226   \n",
       "4              6.045039                 0                   0  0.014691   \n",
       "5              5.510144                 0                   0  9.015686   \n",
       "6              6.062124                 0                   0  9.236328   \n",
       "7              3.401374                 0                   0  4.517248   \n",
       "8              7.396061                 0                   1  0.756232   \n",
       "9              1.148904                 0                   1  4.554394   \n",
       "\n",
       "   Confusion  Disorientation  PersonalityChanges  DifficultyCompletingTasks  \\\n",
       "0          0               0                   0                          1   \n",
       "1          0               0                   0                          0   \n",
       "2          0               1                   0                          1   \n",
       "3          0               0                   0                          0   \n",
       "4          0               0                   1                          1   \n",
       "5          1               0                   0                          0   \n",
       "6          0               0                   0                          0   \n",
       "7          1               0                   0                          0   \n",
       "8          0               0                   1                          0   \n",
       "9          0               0                   0                          0   \n",
       "\n",
       "   Forgetfulness  Diagnosis DoctorInCharge  \n",
       "0              0          0      XXXConfid  \n",
       "1              1          0      XXXConfid  \n",
       "2              0          0      XXXConfid  \n",
       "3              0          0      XXXConfid  \n",
       "4              0          0      XXXConfid  \n",
       "5              0          0      XXXConfid  \n",
       "6              1          0      XXXConfid  \n",
       "7              1          1      XXXConfid  \n",
       "8              0          0      XXXConfid  \n",
       "9              0          0      XXXConfid  "
      ]
     },
     "execution_count": 7,
     "metadata": {},
     "output_type": "execute_result"
    }
   ],
   "source": [
    "pandas.set_option(\"display.max_columns\", None)\n",
    "alz_dis_df.head(10)"
   ]
  },
  {
   "cell_type": "markdown",
   "id": "276916d7-07b1-4c27-87f1-6eecd81293a3",
   "metadata": {},
   "source": [
    "### 4.2 Data Cleaning\n",
    "\n",
    "Data Cleaning is an essential component of EDA. Within this section, we review the entire dataset as a whole. This is to ensure the following conditions:\n",
    "\n",
    "1. **Consistent Data across Train and Test set**: If we perform cleaning across either of the two datasets, it yields redundant and unwarranted data, ultimately impacting the performance of the ML model in question.\n",
    "2. **Completeness & Generalization**: The aim of data cleaning is to ensure all data rows are generalized across the dataset, preventing implicit errors within the feature engineering and model testing stages.\n",
    "3. **Accuracy**: Proper data cleaning leads to robust performance of models reliably against varying train and test subsets. "
   ]
  },
  {
   "cell_type": "markdown",
   "id": "f1e5da77-1609-4cb5-b899-550682886800",
   "metadata": {},
   "source": [
    "From the dataframe view, there is a clear indication that there are no text values found in the dataset apart from the `DoctorInCharge` column, which is overwritten for confidentiality purposes. Next Step would be to view if there are multiple unique values present in the latter."
   ]
  },
  {
   "cell_type": "code",
   "execution_count": 8,
   "id": "cde7ee10-81eb-4411-9a41-23ae934af26a",
   "metadata": {},
   "outputs": [
    {
     "data": {
      "text/plain": [
       "array(['XXXConfid'], dtype=object)"
      ]
     },
     "execution_count": 8,
     "metadata": {},
     "output_type": "execute_result"
    }
   ],
   "source": [
    "alz_dis_df.DoctorInCharge.unique()"
   ]
  },
  {
   "cell_type": "markdown",
   "id": "b82f51bd-b691-463e-93da-fc6bd29479a2",
   "metadata": {},
   "source": [
    "**Preliminary Findings**\n",
    "\n",
    "Since there is only one unique value in the entire column and given that `PatientID`is a unique identifier, the next step is to drop these columns to improve upon the features that will be necessary to train the model."
   ]
  },
  {
   "cell_type": "code",
   "execution_count": 9,
   "id": "69294a70-a7d9-4b8e-83a6-daf23339020a",
   "metadata": {},
   "outputs": [
    {
     "data": {
      "text/plain": [
       "Index(['Age', 'Gender', 'Ethnicity', 'EducationLevel', 'BMI', 'Smoking',\n",
       "       'AlcoholConsumption', 'PhysicalActivity', 'DietQuality', 'SleepQuality',\n",
       "       'FamilyHistoryAlzheimers', 'CardiovascularDisease', 'Diabetes',\n",
       "       'Depression', 'HeadInjury', 'Hypertension', 'SystolicBP', 'DiastolicBP',\n",
       "       'CholesterolTotal', 'CholesterolLDL', 'CholesterolHDL',\n",
       "       'CholesterolTriglycerides', 'MMSE', 'FunctionalAssessment',\n",
       "       'MemoryComplaints', 'BehavioralProblems', 'ADL', 'Confusion',\n",
       "       'Disorientation', 'PersonalityChanges', 'DifficultyCompletingTasks',\n",
       "       'Forgetfulness', 'Diagnosis'],\n",
       "      dtype='object')"
      ]
     },
     "execution_count": 9,
     "metadata": {},
     "output_type": "execute_result"
    }
   ],
   "source": [
    "alz_dis_df.drop([\"PatientID\", \"DoctorInCharge\"], axis=1, inplace=True)\n",
    "alz_dis_df.columns"
   ]
  },
  {
   "cell_type": "markdown",
   "id": "2019b5cd-69fb-4c73-b920-28b29ed33a1e",
   "metadata": {},
   "source": [
    "After dropping the unnecessary columns within the dataset, let's review the shape to understand the features and target label on hand."
   ]
  },
  {
   "cell_type": "code",
   "execution_count": 10,
   "id": "94d07855-ce6f-4628-a48a-10d1fca71c43",
   "metadata": {},
   "outputs": [
    {
     "name": "stdout",
     "output_type": "stream",
     "text": [
      "The rows within the dataset are: 2149\n",
      "The columns within the dataset are: 33\n"
     ]
    }
   ],
   "source": [
    "print(\"The rows within the dataset are:\", alz_dis_df.shape[0])\n",
    "print(\"The columns within the dataset are:\", alz_dis_df.shape[1])"
   ]
  },
  {
   "cell_type": "markdown",
   "id": "795cc9ab-7884-4c15-843f-e16919ede50c",
   "metadata": {},
   "source": [
    "From the above results, we see that they are `2149 rows` accompanied with `32 Features` and `1 Target Label`. Next stage involves viewing if the dataset contains any null and duplicate values within the dataset and look to assess the steps as per the output generated from running the commands."
   ]
  },
  {
   "cell_type": "markdown",
   "id": "4818e299-525a-4542-ba68-9023da53ad71",
   "metadata": {},
   "source": [
    "#### Identifying Null Values within the dataset"
   ]
  },
  {
   "cell_type": "code",
   "execution_count": 11,
   "id": "0d0c3b6e-9f2b-42d2-a641-05a5b3e1ab8b",
   "metadata": {},
   "outputs": [
    {
     "name": "stdout",
     "output_type": "stream",
     "text": [
      "<class 'pandas.core.frame.DataFrame'>\n",
      "RangeIndex: 2149 entries, 0 to 2148\n",
      "Data columns (total 33 columns):\n",
      " #   Column                     Non-Null Count  Dtype  \n",
      "---  ------                     --------------  -----  \n",
      " 0   Age                        2149 non-null   int64  \n",
      " 1   Gender                     2149 non-null   int64  \n",
      " 2   Ethnicity                  2149 non-null   int64  \n",
      " 3   EducationLevel             2149 non-null   int64  \n",
      " 4   BMI                        2149 non-null   float64\n",
      " 5   Smoking                    2149 non-null   int64  \n",
      " 6   AlcoholConsumption         2149 non-null   float64\n",
      " 7   PhysicalActivity           2149 non-null   float64\n",
      " 8   DietQuality                2149 non-null   float64\n",
      " 9   SleepQuality               2149 non-null   float64\n",
      " 10  FamilyHistoryAlzheimers    2149 non-null   int64  \n",
      " 11  CardiovascularDisease      2149 non-null   int64  \n",
      " 12  Diabetes                   2149 non-null   int64  \n",
      " 13  Depression                 2149 non-null   int64  \n",
      " 14  HeadInjury                 2149 non-null   int64  \n",
      " 15  Hypertension               2149 non-null   int64  \n",
      " 16  SystolicBP                 2149 non-null   int64  \n",
      " 17  DiastolicBP                2149 non-null   int64  \n",
      " 18  CholesterolTotal           2149 non-null   float64\n",
      " 19  CholesterolLDL             2149 non-null   float64\n",
      " 20  CholesterolHDL             2149 non-null   float64\n",
      " 21  CholesterolTriglycerides   2149 non-null   float64\n",
      " 22  MMSE                       2149 non-null   float64\n",
      " 23  FunctionalAssessment       2149 non-null   float64\n",
      " 24  MemoryComplaints           2149 non-null   int64  \n",
      " 25  BehavioralProblems         2149 non-null   int64  \n",
      " 26  ADL                        2149 non-null   float64\n",
      " 27  Confusion                  2149 non-null   int64  \n",
      " 28  Disorientation             2149 non-null   int64  \n",
      " 29  PersonalityChanges         2149 non-null   int64  \n",
      " 30  DifficultyCompletingTasks  2149 non-null   int64  \n",
      " 31  Forgetfulness              2149 non-null   int64  \n",
      " 32  Diagnosis                  2149 non-null   int64  \n",
      "dtypes: float64(12), int64(21)\n",
      "memory usage: 554.2 KB\n"
     ]
    }
   ],
   "source": [
    "alz_dis_df.info()"
   ]
  },
  {
   "cell_type": "markdown",
   "id": "9b55120c-664e-4afd-a0ef-d2101b887701",
   "metadata": {},
   "source": [
    "The absence of null values (2149 rows -> 2149 non-null values) ensures we have no unwanted values that might impact the quality of the dataset. Next steps is to identify the duplicate values in the data set. Additionally we can also observe that the dataset is only comprised of the following datatypes:\n",
    "\n",
    "1. `int64`\n",
    "2. `float64`\n",
    "\n",
    "`Object`datatypes are not found in the dataset which reduces the need for any additional encoding measures that might have been otherwise required."
   ]
  },
  {
   "cell_type": "markdown",
   "id": "d5cfad7d-c643-466e-aa8c-2c7bad8ca6cc",
   "metadata": {},
   "source": [
    "#### Identifying duplicates within the dataset"
   ]
  },
  {
   "cell_type": "code",
   "execution_count": 12,
   "id": "8c96eebe-3ac0-4c11-aca7-2dea50ab5cd8",
   "metadata": {},
   "outputs": [
    {
     "name": "stdout",
     "output_type": "stream",
     "text": [
      "False\n"
     ]
    }
   ],
   "source": [
    "print(alz_dis_df.duplicated().any())"
   ]
  },
  {
   "cell_type": "markdown",
   "id": "76d20c0e-528e-4830-8d31-594ce3fff88e",
   "metadata": {},
   "source": [
    "From this observation, it is quite clear we have no duplicated datapoints that might lead to any overfitting if found in both training and test datasets, as well not develop bias in the overall ML model. Any indications of data gaps and abnormalities have been identified that might have impacted the training, validation and test sets. \n",
    "\n",
    "Prior to exploring and viewing the data for our analysis and determining relationships - The data will be split into train, validation  & test datasets. This is done to ensure that no data leakage occurs on the outset. This is achieved using the `train_test_split` method of `sklearn.model_selection`.\n",
    "\n",
    "We will use **Numpy's** `random.seed(42)` functionality to ensure repeatability of results across the ML pipeline."
   ]
  },
  {
   "cell_type": "markdown",
   "id": "c5e73560-7f36-4973-9d46-67858f85b7c7",
   "metadata": {},
   "source": [
    "### 4.3 Train, Validation & Test Sets\n",
    "\n",
    "#### Splitting the Data into **Train**, **Validation**, **Test** Sets.\n",
    "\n",
    "Splitting the data into three different sets allows us to:\n",
    "<ul>\n",
    "    <li>Prevent Data Leakage into the ML Pipeline</li>\n",
    "    <li>Allow us to review and validate the efficacy of the ML model based on the best Parameters</li>\n",
    "    <li>Once identified the best model from our 3 ML modes, we can perform our predictions on the test set at the end.</li>\n",
    "</ul>\n"
   ]
  },
  {
   "cell_type": "code",
   "execution_count": 13,
   "id": "d80560bf-9e9c-49e0-8485-84e3eda2b12e",
   "metadata": {},
   "outputs": [
    {
     "name": "stdout",
     "output_type": "stream",
     "text": [
      "Training Dataframe Shape: (1552, 33)\n",
      "Validation Dataframe Shape: (274, 33)\n",
      "Testing Dataframe Shape: (323, 33)\n"
     ]
    }
   ],
   "source": [
    "numpy.random.seed(42)\n",
    "\n",
    "alz_dis_df_tr, alz_dis_df_test = train_test_split(alz_dis_df, test_size=0.15)\n",
    "alz_dis_df_train, alz_dis_df_validation = train_test_split(alz_dis_df_tr, test_size=0.15)\n",
    "\n",
    "print(\"Training Dataframe Shape: {0}\".format(alz_dis_df_train.shape))\n",
    "print(\"Validation Dataframe Shape: {0}\".format(alz_dis_df_validation.shape))\n",
    "print(\"Testing Dataframe Shape: {0}\".format(alz_dis_df_test.shape))"
   ]
  },
  {
   "cell_type": "markdown",
   "id": "068e96bc-4871-4bc7-b4d2-7da08fa6a77c",
   "metadata": {},
   "source": [
    "### 4.4 Data Exploration\n",
    "\n",
    "In this section we explore the relationships of the features with the target label that might give us insights into the factors that impact either positively or negatively the outcome of our ML models."
   ]
  },
  {
   "cell_type": "markdown",
   "id": "c59ff1ba-80d8-456b-92a7-866edd8ba526",
   "metadata": {},
   "source": [
    "##### 4.4.1 Categorical Features\n",
    "\n",
    "Let's identify the Binary Categories and Multi-variate Categories within the dataset to understand what best methods can be applied to improve upon our training, validation and test sets."
   ]
  },
  {
   "cell_type": "code",
   "execution_count": 14,
   "id": "3ac16600-6aaf-4778-a765-75b2811e54d3",
   "metadata": {},
   "outputs": [
    {
     "name": "stdout",
     "output_type": "stream",
     "text": [
      "Gender: [0 1]\tSmoking: [1 0]\tFamilyHistoryAlzheimers: [1 0]\tCardiovascularDisease: [0 1]\tDiabetes: [1 0]\tDepression: [1 0]\tHeadInjury: [0 1]\tHypertension: [1 0]\tMemoryComplaints: [0 1]\tBehavioralProblems: [0 1]\tConfusion: [0 1]\tDisorientation: [1 0]\tPersonalityChanges: [0 1]\tDifficultyCompletingTasks: [0 1]\tForgetfulness: [1 0]\tDiagnosis: [0 1]\t"
     ]
    }
   ],
   "source": [
    "binary_categories = alz_dis_df_train.columns[alz_dis_df_train.nunique() == 2]\n",
    "\n",
    "for column in binary_categories:\n",
    "    print(f\"{column}: {alz_dis_df_train[column].unique()}\", end=\"\\t\")"
   ]
  },
  {
   "cell_type": "code",
   "execution_count": 15,
   "id": "a86f34a5-3efb-45b5-aa8b-d287eb7091ff",
   "metadata": {},
   "outputs": [
    {
     "name": "stdout",
     "output_type": "stream",
     "text": [
      "Ethnicity: [0 3 2 1]\n",
      "EducationLevel: [3 1 2 0]\n"
     ]
    }
   ],
   "source": [
    "multiclass_categories = alz_dis_df_train.columns[(alz_dis_df_train.nunique() > 2) & (alz_dis_df_train.nunique() <= 4)]\n",
    "\n",
    "for column in multiclass_categories:\n",
    "    print(f\"{column}: {alz_dis_df_train[column].unique()}\")"
   ]
  },
  {
   "cell_type": "markdown",
   "id": "8dccce14-2894-4eca-9821-0653d7b0ac12",
   "metadata": {},
   "source": [
    "The distinction between binary categories and multi-value ordinal categories is vital prior to feature engineering to establish the necessary methods required for our ML models. Certain ML models are unable to differentiate multi-class variables and hence the requirement to employ OneHotEncoding for our ML pipeline."
   ]
  },
  {
   "cell_type": "markdown",
   "id": "ae4a213f-31c8-488e-be2c-92270385374b",
   "metadata": {},
   "source": [
    "##### 4.4.2 Numerical Features\n",
    "\n",
    "Numerical Features, by nature are better viewed through the statistical properties for each column as well as identifying implicit gaps within the datasets."
   ]
  },
  {
   "cell_type": "code",
   "execution_count": 16,
   "id": "2d433773-59ff-476e-b477-30e47d0744fe",
   "metadata": {},
   "outputs": [
    {
     "data": {
      "text/html": [
       "<div>\n",
       "<style scoped>\n",
       "    .dataframe tbody tr th:only-of-type {\n",
       "        vertical-align: middle;\n",
       "    }\n",
       "\n",
       "    .dataframe tbody tr th {\n",
       "        vertical-align: top;\n",
       "    }\n",
       "\n",
       "    .dataframe thead th {\n",
       "        text-align: right;\n",
       "    }\n",
       "</style>\n",
       "<table border=\"1\" class=\"dataframe\">\n",
       "  <thead>\n",
       "    <tr style=\"text-align: right;\">\n",
       "      <th></th>\n",
       "      <th>Age</th>\n",
       "      <th>BMI</th>\n",
       "      <th>AlcoholConsumption</th>\n",
       "      <th>PhysicalActivity</th>\n",
       "      <th>DietQuality</th>\n",
       "      <th>SleepQuality</th>\n",
       "      <th>SystolicBP</th>\n",
       "      <th>DiastolicBP</th>\n",
       "      <th>CholesterolTotal</th>\n",
       "      <th>CholesterolLDL</th>\n",
       "      <th>CholesterolHDL</th>\n",
       "      <th>CholesterolTriglycerides</th>\n",
       "      <th>MMSE</th>\n",
       "      <th>FunctionalAssessment</th>\n",
       "      <th>ADL</th>\n",
       "    </tr>\n",
       "  </thead>\n",
       "  <tbody>\n",
       "    <tr>\n",
       "      <th>count</th>\n",
       "      <td>1552.000000</td>\n",
       "      <td>1552.000000</td>\n",
       "      <td>1552.000000</td>\n",
       "      <td>1552.000000</td>\n",
       "      <td>1552.000000</td>\n",
       "      <td>1552.000000</td>\n",
       "      <td>1552.000000</td>\n",
       "      <td>1552.000000</td>\n",
       "      <td>1552.000000</td>\n",
       "      <td>1552.000000</td>\n",
       "      <td>1552.000000</td>\n",
       "      <td>1552.000000</td>\n",
       "      <td>1552.000000</td>\n",
       "      <td>1552.000000</td>\n",
       "      <td>1552.000000</td>\n",
       "    </tr>\n",
       "    <tr>\n",
       "      <th>mean</th>\n",
       "      <td>74.839562</td>\n",
       "      <td>27.570130</td>\n",
       "      <td>9.908934</td>\n",
       "      <td>4.972667</td>\n",
       "      <td>4.951450</td>\n",
       "      <td>7.019118</td>\n",
       "      <td>134.172680</td>\n",
       "      <td>89.328608</td>\n",
       "      <td>225.012382</td>\n",
       "      <td>123.724287</td>\n",
       "      <td>59.248421</td>\n",
       "      <td>230.309344</td>\n",
       "      <td>14.677280</td>\n",
       "      <td>5.100564</td>\n",
       "      <td>4.990807</td>\n",
       "    </tr>\n",
       "    <tr>\n",
       "      <th>std</th>\n",
       "      <td>8.961665</td>\n",
       "      <td>7.181111</td>\n",
       "      <td>5.754388</td>\n",
       "      <td>2.839399</td>\n",
       "      <td>2.915448</td>\n",
       "      <td>1.755931</td>\n",
       "      <td>25.911615</td>\n",
       "      <td>17.730092</td>\n",
       "      <td>42.920447</td>\n",
       "      <td>43.171775</td>\n",
       "      <td>23.176383</td>\n",
       "      <td>102.279777</td>\n",
       "      <td>8.683463</td>\n",
       "      <td>2.915185</td>\n",
       "      <td>2.969564</td>\n",
       "    </tr>\n",
       "    <tr>\n",
       "      <th>min</th>\n",
       "      <td>60.000000</td>\n",
       "      <td>15.008851</td>\n",
       "      <td>0.002003</td>\n",
       "      <td>0.003616</td>\n",
       "      <td>0.009385</td>\n",
       "      <td>4.002629</td>\n",
       "      <td>90.000000</td>\n",
       "      <td>60.000000</td>\n",
       "      <td>150.093316</td>\n",
       "      <td>50.230707</td>\n",
       "      <td>20.003434</td>\n",
       "      <td>50.407194</td>\n",
       "      <td>0.005312</td>\n",
       "      <td>0.000460</td>\n",
       "      <td>0.001288</td>\n",
       "    </tr>\n",
       "    <tr>\n",
       "      <th>25%</th>\n",
       "      <td>67.000000</td>\n",
       "      <td>21.392767</td>\n",
       "      <td>5.049694</td>\n",
       "      <td>2.615536</td>\n",
       "      <td>2.398171</td>\n",
       "      <td>5.473476</td>\n",
       "      <td>111.000000</td>\n",
       "      <td>74.000000</td>\n",
       "      <td>189.133522</td>\n",
       "      <td>87.075577</td>\n",
       "      <td>38.659132</td>\n",
       "      <td>138.724342</td>\n",
       "      <td>6.971437</td>\n",
       "      <td>2.534153</td>\n",
       "      <td>2.310308</td>\n",
       "    </tr>\n",
       "    <tr>\n",
       "      <th>50%</th>\n",
       "      <td>75.000000</td>\n",
       "      <td>27.738382</td>\n",
       "      <td>9.661704</td>\n",
       "      <td>4.865117</td>\n",
       "      <td>5.057237</td>\n",
       "      <td>7.086660</td>\n",
       "      <td>134.000000</td>\n",
       "      <td>90.000000</td>\n",
       "      <td>224.490163</td>\n",
       "      <td>122.280140</td>\n",
       "      <td>59.343219</td>\n",
       "      <td>234.681117</td>\n",
       "      <td>14.371764</td>\n",
       "      <td>5.169500</td>\n",
       "      <td>5.022553</td>\n",
       "    </tr>\n",
       "    <tr>\n",
       "      <th>75%</th>\n",
       "      <td>83.000000</td>\n",
       "      <td>33.782515</td>\n",
       "      <td>14.992199</td>\n",
       "      <td>7.440562</td>\n",
       "      <td>7.495946</td>\n",
       "      <td>8.507846</td>\n",
       "      <td>157.000000</td>\n",
       "      <td>105.000000</td>\n",
       "      <td>262.252279</td>\n",
       "      <td>160.513982</td>\n",
       "      <td>78.942479</td>\n",
       "      <td>316.136149</td>\n",
       "      <td>22.252728</td>\n",
       "      <td>7.584309</td>\n",
       "      <td>7.635132</td>\n",
       "    </tr>\n",
       "    <tr>\n",
       "      <th>max</th>\n",
       "      <td>90.000000</td>\n",
       "      <td>39.988513</td>\n",
       "      <td>19.989293</td>\n",
       "      <td>9.987429</td>\n",
       "      <td>9.997203</td>\n",
       "      <td>9.999840</td>\n",
       "      <td>179.000000</td>\n",
       "      <td>119.000000</td>\n",
       "      <td>299.993352</td>\n",
       "      <td>199.965665</td>\n",
       "      <td>99.959494</td>\n",
       "      <td>399.941862</td>\n",
       "      <td>29.991381</td>\n",
       "      <td>9.996467</td>\n",
       "      <td>9.999747</td>\n",
       "    </tr>\n",
       "  </tbody>\n",
       "</table>\n",
       "</div>"
      ],
      "text/plain": [
       "               Age          BMI  AlcoholConsumption  PhysicalActivity  \\\n",
       "count  1552.000000  1552.000000         1552.000000       1552.000000   \n",
       "mean     74.839562    27.570130            9.908934          4.972667   \n",
       "std       8.961665     7.181111            5.754388          2.839399   \n",
       "min      60.000000    15.008851            0.002003          0.003616   \n",
       "25%      67.000000    21.392767            5.049694          2.615536   \n",
       "50%      75.000000    27.738382            9.661704          4.865117   \n",
       "75%      83.000000    33.782515           14.992199          7.440562   \n",
       "max      90.000000    39.988513           19.989293          9.987429   \n",
       "\n",
       "       DietQuality  SleepQuality   SystolicBP  DiastolicBP  CholesterolTotal  \\\n",
       "count  1552.000000   1552.000000  1552.000000  1552.000000       1552.000000   \n",
       "mean      4.951450      7.019118   134.172680    89.328608        225.012382   \n",
       "std       2.915448      1.755931    25.911615    17.730092         42.920447   \n",
       "min       0.009385      4.002629    90.000000    60.000000        150.093316   \n",
       "25%       2.398171      5.473476   111.000000    74.000000        189.133522   \n",
       "50%       5.057237      7.086660   134.000000    90.000000        224.490163   \n",
       "75%       7.495946      8.507846   157.000000   105.000000        262.252279   \n",
       "max       9.997203      9.999840   179.000000   119.000000        299.993352   \n",
       "\n",
       "       CholesterolLDL  CholesterolHDL  CholesterolTriglycerides         MMSE  \\\n",
       "count     1552.000000     1552.000000               1552.000000  1552.000000   \n",
       "mean       123.724287       59.248421                230.309344    14.677280   \n",
       "std         43.171775       23.176383                102.279777     8.683463   \n",
       "min         50.230707       20.003434                 50.407194     0.005312   \n",
       "25%         87.075577       38.659132                138.724342     6.971437   \n",
       "50%        122.280140       59.343219                234.681117    14.371764   \n",
       "75%        160.513982       78.942479                316.136149    22.252728   \n",
       "max        199.965665       99.959494                399.941862    29.991381   \n",
       "\n",
       "       FunctionalAssessment          ADL  \n",
       "count           1552.000000  1552.000000  \n",
       "mean               5.100564     4.990807  \n",
       "std                2.915185     2.969564  \n",
       "min                0.000460     0.001288  \n",
       "25%                2.534153     2.310308  \n",
       "50%                5.169500     5.022553  \n",
       "75%                7.584309     7.635132  \n",
       "max                9.996467     9.999747  "
      ]
     },
     "execution_count": 16,
     "metadata": {},
     "output_type": "execute_result"
    }
   ],
   "source": [
    "numerical_columns = alz_dis_df_train.columns[alz_dis_df_train.nunique() > 4].tolist()\n",
    "\n",
    "alz_dis_df_train[numerical_columns].describe()"
   ]
  },
  {
   "cell_type": "markdown",
   "id": "dc29eb73-6131-4129-9553-f3cc2cd6253a",
   "metadata": {},
   "source": [
    "##### Data Visualizations\n",
    "\n",
    "In this section, we visualize through plots, the connection between different features and target labels within the training set. This serves as as indicator to correlations, imbalances and further anomalies we might encounter."
   ]
  },
  {
   "cell_type": "markdown",
   "id": "1c1bd3cc-e728-468b-a704-f1f600c2e2a5",
   "metadata": {},
   "source": [
    "##### 4.4.3 Data Imbalance between Target Label and Overall Samples"
   ]
  },
  {
   "cell_type": "code",
   "execution_count": 18,
   "id": "bec092e1-90cf-430b-9e94-4c8faf86fbef",
   "metadata": {},
   "outputs": [
    {
     "data": {
      "image/png": "[encoded data removed]",
      "text/plain": [
       "<Figure size 1000x800 with 1 Axes>"
      ]
     },
     "metadata": {},
     "output_type": "display_data"
    }
   ],
   "source": [
    "diagnosis = alz_dis_df_train.Diagnosis.value_counts().reset_index().replace({0: \"No Detection\", 1: \"Alzheimers\"})\n",
    "diagnosis.columns = [\"Diagnosis\", \"Results\"]\n",
    "\n",
    "pyplot.figure(figsize=(10, 8))\n",
    "seaborn.set_theme(style=\"dark\", palette=\"dark\")\n",
    "pyplot.style.use(\"dark_background\")\n",
    "\n",
    "seaborn.barplot(data=diagnosis, x=\"Diagnosis\", hue=\"Diagnosis\", y=\"Results\", palette=\"viridis\", legend=\"full\")\n",
    "\n",
    "pyplot.title(\"Detection of Alzheimer's in Samples\")\n",
    "pyplot.xticks(rotation=0, ha=\"right\", color=\"white\")\n",
    "pyplot.yticks(color=\"white\")\n",
    "pyplot.tight_layout()\n",
    "\n",
    "pyplot.show();"
   ]
  },
  {
   "cell_type": "code",
   "execution_count": 77,
   "id": "706d7abf-0857-4a7f-aa7f-4cec964c3454",
   "metadata": {},
   "outputs": [
    {
     "name": "stdout",
     "output_type": "stream",
     "text": [
      "The total % of the dataset with detection: 35.70%\n",
      "The total % of the dataset without detection: 64.30%\n"
     ]
    }
   ],
   "source": [
    "counts = diagnosis.Results\n",
    "\n",
    "print(f\"The total % of the dataset with detection: {counts.min() / (counts.min() + counts.max())*100:.2f}%\")\n",
    "print(f\"The total % of the dataset without detection: {counts.max() / (counts.min() + counts.max())*100:.2f}%\")"
   ]
  },
  {
   "cell_type": "markdown",
   "id": "fa96c4fd-0e0e-4c55-b3ea-cdd7850a18ce",
   "metadata": {},
   "source": [
    "The visual indicates a disparity between detected and undetected cases. Looking into the numerical outputs, we can clearly observe that the dataset would not be designated entirely as unbalanced, as a truly unbalanced dataset would pertain to around 10% to 20% of all cases.\n",
    "\n",
    "Hence, in our pipeline we will not be applying Over-Sampling or Under-Samlping methods to fill synthetic samples. Addition of synthetic samples in such a dataset might negatively impact the accuracy of the dataset as it would contain repeated data entries within the ML Training Model and hence reduce the precision of the models I train."
   ]
  },
  {
   "cell_type": "markdown",
   "id": "392c2ba4-5cc6-47ab-8927-42b9790d23f1",
   "metadata": {},
   "source": [
    "##### 4.4.4 Correlations Between Categorical Variables and Target Label"
   ]
  },
  {
   "cell_type": "code",
   "execution_count": 78,
   "id": "026eec26-76f9-4e16-aebe-a0697f5375e6",
   "metadata": {},
   "outputs": [
    {
     "data": {
      "application/vnd.plotly.v1+json": {
       "config": {
        "plotlyServerURL": "https://plot.ly"
       },
       "data": [
        {
         "coloraxis": "coloraxis",
         "hovertemplate": "x: %{x}<br>y: %{y}<br>color: %{z}<extra></extra>",
         "name": "0",
         "texttemplate": "%{z:.2f}",
         "type": "heatmap",
         "x": [
          "Gender",
          "Ethnicity",
          "EducationLevel",
          "Smoking",
          "FamilyHistoryAlzheimers",
          "CardiovascularDisease",
          "Diabetes",
          "Depression",
          "HeadInjury",
          "Hypertension",
          "MemoryComplaints",
          "BehavioralProblems",
          "Confusion",
          "Disorientation",
          "PersonalityChanges",
          "DifficultyCompletingTasks",
          "Forgetfulness",
          "Diagnosis"
         ],
         "xaxis": "x",
         "y": [
          "Gender",
          "Ethnicity",
          "EducationLevel",
          "Smoking",
          "FamilyHistoryAlzheimers",
          "CardiovascularDisease",
          "Diabetes",
          "Depression",
          "HeadInjury",
          "Hypertension",
          "MemoryComplaints",
          "BehavioralProblems",
          "Confusion",
          "Disorientation",
          "PersonalityChanges",
          "DifficultyCompletingTasks",
          "Forgetfulness",
          "Diagnosis"
         ],
         "yaxis": "y",
         "z": [
          [
           1,
           -0.033745124793408174,
           -0.031692264115477785,
           0.008154200002238576,
           0.021513537374434632,
           0.027433506444144166,
           -0.017838270426202958,
           -0.0011999375627211883,
           0.009945021133827479,
           0.005221740299196905,
           0.01614669656468927,
           0.030347561471617913,
           -0.021951180090130765,
           0.01912620690129598,
           0.007047496205708314,
           -0.005410749447037592,
           -0.039819463470033546,
           -0.029396689828701663
          ],
          [
           -0.033745124793408174,
           1,
           0.02157107394755682,
           0.01625989745448277,
           0.03074686425551903,
           -0.007385829817036311,
           -0.031956236952870656,
           -0.016709844452124454,
           -0.00654551332096873,
           -0.0007075040991587475,
           0.009494753359857777,
           0.003605827012366359,
           0.030049221153704612,
           -0.02364584899519919,
           -0.04855343775198415,
           0.018706768941319018,
           -0.01671797040129925,
           0.003178609881283317
          ],
          [
           -0.031692264115477785,
           0.02157107394755682,
           1,
           -0.01659871970268344,
           0.038865820241300406,
           0.023987936904031653,
           -0.004425773562836637,
           0.03021613519911242,
           -0.0037598616505203886,
           -0.011783652211056228,
           -0.006398266959437525,
           0.013042762159902162,
           -0.015951920748351802,
           -0.015649859629541074,
           -0.028314894278368717,
           -0.014724577145962363,
           -0.01052935096603311,
           -0.06134545726516413
          ],
          [
           0.008154200002238576,
           0.01625989745448277,
           -0.01659871970268344,
           1,
           -0.041119210137834816,
           0.03273767412328181,
           -0.017454568175765656,
           -0.017719401596758604,
           -0.01715231716959221,
           -0.01613470206737293,
           0.04235876389284559,
           -0.022044135887183815,
           -0.007691511328261269,
           0.0023772798629737354,
           -0.0045022910868415394,
           0.029158401585726475,
           0.02954206495597107,
           -0.010112201442883374
          ],
          [
           0.021513537374434632,
           0.03074686425551903,
           0.038865820241300406,
           -0.041119210137834816,
           1,
           0.03522164262662616,
           -0.02663693002433833,
           0.008998543034918864,
           -0.0024411237008638165,
           0.019463761293371868,
           -0.0516961217057377,
           -0.0031373290294950443,
           0.015481936967642615,
           0.026760027701963424,
           0.0021055922082186917,
           0.033435304017603536,
           0.037371636656467706,
           -0.034900142417489934
          ],
          [
           0.027433506444144166,
           -0.007385829817036311,
           0.023987936904031653,
           0.03273767412328181,
           0.03522164262662616,
           1,
           -0.01243339671090363,
           0.0016202988857081401,
           0.027679259341975626,
           0.011601252873923705,
           0.039583013750858605,
           -0.017767134528883014,
           0.017284219481824712,
           0.029933123970542763,
           -0.019435904392223643,
           0.002092751857099474,
           -0.0008340580732574321,
           0.03651031142994268
          ],
          [
           -0.017838270426202958,
           -0.031956236952870656,
           -0.004425773562836637,
           -0.017454568175765656,
           -0.02663693002433833,
           -0.01243339671090363,
           1,
           -0.006192617225033372,
           -0.01073140640214082,
           -0.00622070894233959,
           -0.030832137402334654,
           -0.059011979248876745,
           -0.004153095864421584,
           0.010690546304118233,
           -0.005819255761814943,
           0.003879240681036016,
           -0.023385976483132984,
           -0.036049664554461326
          ],
          [
           -0.0011999375627211883,
           -0.016709844452124454,
           0.03021613519911242,
           -0.017719401596758604,
           0.008998543034918864,
           0.0016202988857081401,
           -0.006192617225033372,
           1,
           -0.008211829954484162,
           0.038018017015603894,
           -0.019697570714245192,
           0.017860240857896895,
           0.011071948717564676,
           0.0012951234202246953,
           0.013720833324451212,
           -0.00708796009874237,
           -0.0015245377621142234,
           0.00019660166104411837
          ],
          [
           0.009945021133827479,
           -0.00654551332096873,
           -0.0037598616505203886,
           -0.01715231716959221,
           -0.0024411237008638165,
           0.027679259341975626,
           -0.01073140640214082,
           -0.008211829954484162,
           1,
           -0.019909164826724817,
           -0.024361455995387932,
           0.0174264231764113,
           -0.01202864069359476,
           0.030021774256858296,
           -0.028160425942484323,
           0.0184799963571723,
           -0.00973861085533773,
           -0.04641272830936362
          ],
          [
           0.005221740299196905,
           -0.0007075040991587475,
           -0.011783652211056228,
           -0.01613470206737293,
           0.019463761293371868,
           0.011601252873923705,
           -0.00622070894233959,
           0.038018017015603894,
           -0.019909164826724817,
           1,
           -0.008998153288028405,
           0.048849336360447575,
           -0.008491054969861233,
           0.0437371474805539,
           -0.017201962246683623,
           0.017599075129684272,
           0.025290921979540526,
           0.04495204545122246
          ],
          [
           0.01614669656468927,
           0.009494753359857777,
           -0.006398266959437525,
           0.04235876389284559,
           -0.0516961217057377,
           0.039583013750858605,
           -0.030832137402334654,
           -0.019697570714245192,
           -0.024361455995387932,
           -0.008998153288028405,
           1,
           -0.033379799762512895,
           -0.005613431458910961,
           0.014853932976662963,
           -0.04217356548065541,
           0.04159652622693877,
           -0.009274541917710278,
           0.3149335138982325
          ],
          [
           0.030347561471617913,
           0.003605827012366359,
           0.013042762159902162,
           -0.022044135887183815,
           -0.0031373290294950443,
           -0.017767134528883014,
           -0.059011979248876745,
           0.017860240857896895,
           0.0174264231764113,
           0.048849336360447575,
           -0.033379799762512895,
           1,
           -0.0022545786575652463,
           -0.012725346559649244,
           0.004404720388799355,
           -0.04980389708939182,
           0.01984914852956514,
           0.21632053518879982
          ],
          [
           -0.021951180090130765,
           0.030049221153704612,
           -0.015951920748351802,
           -0.007691511328261269,
           0.015481936967642615,
           0.017284219481824712,
           -0.004153095864421584,
           0.011071948717564676,
           -0.01202864069359476,
           -0.008491054969861233,
           -0.005613431458910961,
           -0.0022545786575652463,
           1,
           0.0034156552279025055,
           -0.006630201336113286,
           -0.022568210318332293,
           0.02601602661137375,
           -0.0295196179459005
          ],
          [
           0.01912620690129598,
           -0.02364584899519919,
           -0.015649859629541074,
           0.0023772798629737354,
           0.026760027701963424,
           0.029933123970542763,
           0.010690546304118233,
           0.0012951234202246953,
           0.030021774256858296,
           0.0437371474805539,
           0.014853932976662963,
           -0.012725346559649244,
           0.0034156552279025055,
           1,
           -0.028406203088350387,
           0.0003206124254572636,
           -0.023963445021425354,
           -0.027872286908625952
          ],
          [
           0.007047496205708314,
           -0.04855343775198415,
           -0.028314894278368717,
           -0.0045022910868415394,
           0.0021055922082186917,
           -0.019435904392223643,
           -0.005819255761814943,
           0.013720833324451212,
           -0.028160425942484323,
           -0.017201962246683623,
           -0.04217356548065541,
           0.004404720388799355,
           -0.006630201336113286,
           -0.028406203088350387,
           1,
           0.03323581433294647,
           -0.017705611078041947,
           -0.02062081654729947
          ],
          [
           -0.005410749447037592,
           0.018706768941319018,
           -0.014724577145962363,
           0.029158401585726475,
           0.033435304017603536,
           0.002092751857099474,
           0.003879240681036016,
           -0.00708796009874237,
           0.0184799963571723,
           0.017599075129684272,
           0.04159652622693877,
           -0.04980389708939182,
           -0.022568210318332293,
           0.0003206124254572636,
           0.03323581433294647,
           1,
           -0.008991113510963468,
           -0.011445783341011017
          ],
          [
           -0.039819463470033546,
           -0.01671797040129925,
           -0.01052935096603311,
           0.02954206495597107,
           0.037371636656467706,
           -0.0008340580732574321,
           -0.023385976483132984,
           -0.0015245377621142234,
           -0.00973861085533773,
           0.025290921979540526,
           -0.009274541917710278,
           0.01984914852956514,
           0.02601602661137375,
           -0.023963445021425354,
           -0.017705611078041947,
           -0.008991113510963468,
           1,
           0.0111878616398466
          ],
          [
           -0.029396689828701663,
           0.003178609881283317,
           -0.06134545726516413,
           -0.010112201442883374,
           -0.034900142417489934,
           0.03651031142994268,
           -0.036049664554461326,
           0.00019660166104411837,
           -0.04641272830936362,
           0.04495204545122246,
           0.3149335138982325,
           0.21632053518879982,
           -0.0295196179459005,
           -0.027872286908625952,
           -0.02062081654729947,
           -0.011445783341011017,
           0.0111878616398466,
           1
          ]
         ]
        }
       ],
       "layout": {
        "autosize": true,
        "coloraxis": {
         "colorscale": [
          [
           0,
           "#00224e"
          ],
          [
           0.1111111111111111,
           "#123570"
          ],
          [
           0.2222222222222222,
           "#3b496c"
          ],
          [
           0.3333333333333333,
           "#575d6d"
          ],
          [
           0.4444444444444444,
           "#707173"
          ],
          [
           0.5555555555555556,
           "#8a8678"
          ],
          [
           0.6666666666666666,
           "#a59c74"
          ],
          [
           0.7777777777777778,
           "#c3b369"
          ],
          [
           0.8888888888888888,
           "#e1cc55"
          ],
          [
           1,
           "#fee838"
          ]
         ]
        },
        "hovermode": "closest",
        "margin": {
         "b": 0,
         "l": 0,
         "r": 0,
         "t": 50
        },
        "paper_bgcolor": "rgba(0, 0, 0, 0)",
        "plot_bgcolor": "rgba(0, 0, 0, 0)",
        "template": {
         "data": {
          "bar": [
           {
            "error_x": {
             "color": "#f2f5fa"
            },
            "error_y": {
             "color": "#f2f5fa"
            },
            "marker": {
             "line": {
              "color": "rgb(17,17,17)",
              "width": 0.5
             },
             "pattern": {
              "fillmode": "overlay",
              "size": 10,
              "solidity": 0.2
             }
            },
            "type": "bar"
           }
          ],
          "barpolar": [
           {
            "marker": {
             "line": {
              "color": "rgb(17,17,17)",
              "width": 0.5
             },
             "pattern": {
              "fillmode": "overlay",
              "size": 10,
              "solidity": 0.2
             }
            },
            "type": "barpolar"
           }
          ],
          "carpet": [
           {
            "aaxis": {
             "endlinecolor": "#A2B1C6",
             "gridcolor": "#506784",
             "linecolor": "#506784",
             "minorgridcolor": "#506784",
             "startlinecolor": "#A2B1C6"
            },
            "baxis": {
             "endlinecolor": "#A2B1C6",
             "gridcolor": "#506784",
             "linecolor": "#506784",
             "minorgridcolor": "#506784",
             "startlinecolor": "#A2B1C6"
            },
            "type": "carpet"
           }
          ],
          "choropleth": [
           {
            "colorbar": {
             "outlinewidth": 0,
             "ticks": ""
            },
            "type": "choropleth"
           }
          ],
          "contour": [
           {
            "colorbar": {
             "outlinewidth": 0,
             "ticks": ""
            },
            "colorscale": [
             [
              0,
              "#0d0887"
             ],
             [
              0.1111111111111111,
              "#46039f"
             ],
             [
              0.2222222222222222,
              "#7201a8"
             ],
             [
              0.3333333333333333,
              "#9c179e"
             ],
             [
              0.4444444444444444,
              "#bd3786"
             ],
             [
              0.5555555555555556,
              "#d8576b"
             ],
             [
              0.6666666666666666,
              "#ed7953"
             ],
             [
              0.7777777777777778,
              "#fb9f3a"
             ],
             [
              0.8888888888888888,
              "#fdca26"
             ],
             [
              1,
              "#f0f921"
             ]
            ],
            "type": "contour"
           }
          ],
          "contourcarpet": [
           {
            "colorbar": {
             "outlinewidth": 0,
             "ticks": ""
            },
            "type": "contourcarpet"
           }
          ],
          "heatmap": [
           {
            "colorbar": {
             "outlinewidth": 0,
             "ticks": ""
            },
            "colorscale": [
             [
              0,
              "#0d0887"
             ],
             [
              0.1111111111111111,
              "#46039f"
             ],
             [
              0.2222222222222222,
              "#7201a8"
             ],
             [
              0.3333333333333333,
              "#9c179e"
             ],
             [
              0.4444444444444444,
              "#bd3786"
             ],
             [
              0.5555555555555556,
              "#d8576b"
             ],
             [
              0.6666666666666666,
              "#ed7953"
             ],
             [
              0.7777777777777778,
              "#fb9f3a"
             ],
             [
              0.8888888888888888,
              "#fdca26"
             ],
             [
              1,
              "#f0f921"
             ]
            ],
            "type": "heatmap"
           }
          ],
          "heatmapgl": [
           {
            "colorbar": {
             "outlinewidth": 0,
             "ticks": ""
            },
            "colorscale": [
             [
              0,
              "#0d0887"
             ],
             [
              0.1111111111111111,
              "#46039f"
             ],
             [
              0.2222222222222222,
              "#7201a8"
             ],
             [
              0.3333333333333333,
              "#9c179e"
             ],
             [
              0.4444444444444444,
              "#bd3786"
             ],
             [
              0.5555555555555556,
              "#d8576b"
             ],
             [
              0.6666666666666666,
              "#ed7953"
             ],
             [
              0.7777777777777778,
              "#fb9f3a"
             ],
             [
              0.8888888888888888,
              "#fdca26"
             ],
             [
              1,
              "#f0f921"
             ]
            ],
            "type": "heatmapgl"
           }
          ],
          "histogram": [
           {
            "marker": {
             "pattern": {
              "fillmode": "overlay",
              "size": 10,
              "solidity": 0.2
             }
            },
            "type": "histogram"
           }
          ],
          "histogram2d": [
           {
            "colorbar": {
             "outlinewidth": 0,
             "ticks": ""
            },
            "colorscale": [
             [
              0,
              "#0d0887"
             ],
             [
              0.1111111111111111,
              "#46039f"
             ],
             [
              0.2222222222222222,
              "#7201a8"
             ],
             [
              0.3333333333333333,
              "#9c179e"
             ],
             [
              0.4444444444444444,
              "#bd3786"
             ],
             [
              0.5555555555555556,
              "#d8576b"
             ],
             [
              0.6666666666666666,
              "#ed7953"
             ],
             [
              0.7777777777777778,
              "#fb9f3a"
             ],
             [
              0.8888888888888888,
              "#fdca26"
             ],
             [
              1,
              "#f0f921"
             ]
            ],
            "type": "histogram2d"
           }
          ],
          "histogram2dcontour": [
           {
            "colorbar": {
             "outlinewidth": 0,
             "ticks": ""
            },
            "colorscale": [
             [
              0,
              "#0d0887"
             ],
             [
              0.1111111111111111,
              "#46039f"
             ],
             [
              0.2222222222222222,
              "#7201a8"
             ],
             [
              0.3333333333333333,
              "#9c179e"
             ],
             [
              0.4444444444444444,
              "#bd3786"
             ],
             [
              0.5555555555555556,
              "#d8576b"
             ],
             [
              0.6666666666666666,
              "#ed7953"
             ],
             [
              0.7777777777777778,
              "#fb9f3a"
             ],
             [
              0.8888888888888888,
              "#fdca26"
             ],
             [
              1,
              "#f0f921"
             ]
            ],
            "type": "histogram2dcontour"
           }
          ],
          "mesh3d": [
           {
            "colorbar": {
             "outlinewidth": 0,
             "ticks": ""
            },
            "type": "mesh3d"
           }
          ],
          "parcoords": [
           {
            "line": {
             "colorbar": {
              "outlinewidth": 0,
              "ticks": ""
             }
            },
            "type": "parcoords"
           }
          ],
          "pie": [
           {
            "automargin": true,
            "type": "pie"
           }
          ],
          "scatter": [
           {
            "marker": {
             "line": {
              "color": "#283442"
             }
            },
            "type": "scatter"
           }
          ],
          "scatter3d": [
           {
            "line": {
             "colorbar": {
              "outlinewidth": 0,
              "ticks": ""
             }
            },
            "marker": {
             "colorbar": {
              "outlinewidth": 0,
              "ticks": ""
             }
            },
            "type": "scatter3d"
           }
          ],
          "scattercarpet": [
           {
            "marker": {
             "colorbar": {
              "outlinewidth": 0,
              "ticks": ""
             }
            },
            "type": "scattercarpet"
           }
          ],
          "scattergeo": [
           {
            "marker": {
             "colorbar": {
              "outlinewidth": 0,
              "ticks": ""
             }
            },
            "type": "scattergeo"
           }
          ],
          "scattergl": [
           {
            "marker": {
             "line": {
              "color": "#283442"
             }
            },
            "type": "scattergl"
           }
          ],
          "scattermapbox": [
           {
            "marker": {
             "colorbar": {
              "outlinewidth": 0,
              "ticks": ""
             }
            },
            "type": "scattermapbox"
           }
          ],
          "scatterpolar": [
           {
            "marker": {
             "colorbar": {
              "outlinewidth": 0,
              "ticks": ""
             }
            },
            "type": "scatterpolar"
           }
          ],
          "scatterpolargl": [
           {
            "marker": {
             "colorbar": {
              "outlinewidth": 0,
              "ticks": ""
             }
            },
            "type": "scatterpolargl"
           }
          ],
          "scatterternary": [
           {
            "marker": {
             "colorbar": {
              "outlinewidth": 0,
              "ticks": ""
             }
            },
            "type": "scatterternary"
           }
          ],
          "surface": [
           {
            "colorbar": {
             "outlinewidth": 0,
             "ticks": ""
            },
            "colorscale": [
             [
              0,
              "#0d0887"
             ],
             [
              0.1111111111111111,
              "#46039f"
             ],
             [
              0.2222222222222222,
              "#7201a8"
             ],
             [
              0.3333333333333333,
              "#9c179e"
             ],
             [
              0.4444444444444444,
              "#bd3786"
             ],
             [
              0.5555555555555556,
              "#d8576b"
             ],
             [
              0.6666666666666666,
              "#ed7953"
             ],
             [
              0.7777777777777778,
              "#fb9f3a"
             ],
             [
              0.8888888888888888,
              "#fdca26"
             ],
             [
              1,
              "#f0f921"
             ]
            ],
            "type": "surface"
           }
          ],
          "table": [
           {
            "cells": {
             "fill": {
              "color": "#506784"
             },
             "line": {
              "color": "rgb(17,17,17)"
             }
            },
            "header": {
             "fill": {
              "color": "#2a3f5f"
             },
             "line": {
              "color": "rgb(17,17,17)"
             }
            },
            "type": "table"
           }
          ]
         },
         "layout": {
          "annotationdefaults": {
           "arrowcolor": "#f2f5fa",
           "arrowhead": 0,
           "arrowwidth": 1
          },
          "autotypenumbers": "strict",
          "coloraxis": {
           "colorbar": {
            "outlinewidth": 0,
            "ticks": ""
           }
          },
          "colorscale": {
           "diverging": [
            [
             0,
             "#8e0152"
            ],
            [
             0.1,
             "#c51b7d"
            ],
            [
             0.2,
             "#de77ae"
            ],
            [
             0.3,
             "#f1b6da"
            ],
            [
             0.4,
             "#fde0ef"
            ],
            [
             0.5,
             "#f7f7f7"
            ],
            [
             0.6,
             "#e6f5d0"
            ],
            [
             0.7,
             "#b8e186"
            ],
            [
             0.8,
             "#7fbc41"
            ],
            [
             0.9,
             "#4d9221"
            ],
            [
             1,
             "#276419"
            ]
           ],
           "sequential": [
            [
             0,
             "#0d0887"
            ],
            [
             0.1111111111111111,
             "#46039f"
            ],
            [
             0.2222222222222222,
             "#7201a8"
            ],
            [
             0.3333333333333333,
             "#9c179e"
            ],
            [
             0.4444444444444444,
             "#bd3786"
            ],
            [
             0.5555555555555556,
             "#d8576b"
            ],
            [
             0.6666666666666666,
             "#ed7953"
            ],
            [
             0.7777777777777778,
             "#fb9f3a"
            ],
            [
             0.8888888888888888,
             "#fdca26"
            ],
            [
             1,
             "#f0f921"
            ]
           ],
           "sequentialminus": [
            [
             0,
             "#0d0887"
            ],
            [
             0.1111111111111111,
             "#46039f"
            ],
            [
             0.2222222222222222,
             "#7201a8"
            ],
            [
             0.3333333333333333,
             "#9c179e"
            ],
            [
             0.4444444444444444,
             "#bd3786"
            ],
            [
             0.5555555555555556,
             "#d8576b"
            ],
            [
             0.6666666666666666,
             "#ed7953"
            ],
            [
             0.7777777777777778,
             "#fb9f3a"
            ],
            [
             0.8888888888888888,
             "#fdca26"
            ],
            [
             1,
             "#f0f921"
            ]
           ]
          },
          "colorway": [
           "#636efa",
           "#EF553B",
           "#00cc96",
           "#ab63fa",
           "#FFA15A",
           "#19d3f3",
           "#FF6692",
           "#B6E880",
           "#FF97FF",
           "#FECB52"
          ],
          "font": {
           "color": "#f2f5fa"
          },
          "geo": {
           "bgcolor": "rgb(17,17,17)",
           "lakecolor": "rgb(17,17,17)",
           "landcolor": "rgb(17,17,17)",
           "showlakes": true,
           "showland": true,
           "subunitcolor": "#506784"
          },
          "hoverlabel": {
           "align": "left"
          },
          "hovermode": "closest",
          "mapbox": {
           "style": "dark"
          },
          "paper_bgcolor": "rgb(17,17,17)",
          "plot_bgcolor": "rgb(17,17,17)",
          "polar": {
           "angularaxis": {
            "gridcolor": "#506784",
            "linecolor": "#506784",
            "ticks": ""
           },
           "bgcolor": "rgb(17,17,17)",
           "radialaxis": {
            "gridcolor": "#506784",
            "linecolor": "#506784",
            "ticks": ""
           }
          },
          "scene": {
           "xaxis": {
            "backgroundcolor": "rgb(17,17,17)",
            "gridcolor": "#506784",
            "gridwidth": 2,
            "linecolor": "#506784",
            "showbackground": true,
            "ticks": "",
            "zerolinecolor": "#C8D4E3"
           },
           "yaxis": {
            "backgroundcolor": "rgb(17,17,17)",
            "gridcolor": "#506784",
            "gridwidth": 2,
            "linecolor": "#506784",
            "showbackground": true,
            "ticks": "",
            "zerolinecolor": "#C8D4E3"
           },
           "zaxis": {
            "backgroundcolor": "rgb(17,17,17)",
            "gridcolor": "#506784",
            "gridwidth": 2,
            "linecolor": "#506784",
            "showbackground": true,
            "ticks": "",
            "zerolinecolor": "#C8D4E3"
           }
          },
          "shapedefaults": {
           "line": {
            "color": "#f2f5fa"
           }
          },
          "sliderdefaults": {
           "bgcolor": "#C8D4E3",
           "bordercolor": "rgb(17,17,17)",
           "borderwidth": 1,
           "tickwidth": 0
          },
          "ternary": {
           "aaxis": {
            "gridcolor": "#506784",
            "linecolor": "#506784",
            "ticks": ""
           },
           "baxis": {
            "gridcolor": "#506784",
            "linecolor": "#506784",
            "ticks": ""
           },
           "bgcolor": "rgb(17,17,17)",
           "caxis": {
            "gridcolor": "#506784",
            "linecolor": "#506784",
            "ticks": ""
           }
          },
          "title": {
           "x": 0.05
          },
          "updatemenudefaults": {
           "bgcolor": "#506784",
           "borderwidth": 0
          },
          "xaxis": {
           "automargin": true,
           "gridcolor": "#283442",
           "linecolor": "#506784",
           "ticks": "",
           "title": {
            "standoff": 15
           },
           "zerolinecolor": "#283442",
           "zerolinewidth": 2
          },
          "yaxis": {
           "automargin": true,
           "gridcolor": "#283442",
           "linecolor": "#506784",
           "ticks": "",
           "title": {
            "standoff": 15
           },
           "zerolinecolor": "#283442",
           "zerolinewidth": 2
          }
         }
        },
        "title": {
         "text": "Correlation Matrix for Categorical Columns vs. Target Label"
        },
        "xaxis": {
         "anchor": "y",
         "autorange": true,
         "domain": [
          0,
          1
         ],
         "range": [
          -0.5,
          17.5
         ],
         "type": "category"
        },
        "yaxis": {
         "anchor": "x",
         "autorange": true,
         "domain": [
          0,
          1
         ],
         "range": [
          17.5,
          -0.5
         ],
         "type": "category"
        }
       }
      },
      "image/png": "[encoded data removed]",
      "text/html": [
       "<div>                            <div id=\"ac38b357-0c2a-4626-8eea-265aa1afa40b\" class=\"plotly-graph-div\" style=\"height:600px; width:100%;\"></div>            <script type=\"text/javascript\">                require([\"plotly\"], function(Plotly) {                    window.PLOTLYENV=window.PLOTLYENV || {};                                    if (document.getElementById(\"ac38b357-0c2a-4626-8eea-265aa1afa40b\")) {                    Plotly.newPlot(                        \"ac38b357-0c2a-4626-8eea-265aa1afa40b\",                        [{\"coloraxis\":\"coloraxis\",\"name\":\"0\",\"texttemplate\":\"%{z:.2f}\",\"x\":[\"Gender\",\"Ethnicity\",\"EducationLevel\",\"Smoking\",\"FamilyHistoryAlzheimers\",\"CardiovascularDisease\",\"Diabetes\",\"Depression\",\"HeadInjury\",\"Hypertension\",\"MemoryComplaints\",\"BehavioralProblems\",\"Confusion\",\"Disorientation\",\"PersonalityChanges\",\"DifficultyCompletingTasks\",\"Forgetfulness\",\"Diagnosis\"],\"y\":[\"Gender\",\"Ethnicity\",\"EducationLevel\",\"Smoking\",\"FamilyHistoryAlzheimers\",\"CardiovascularDisease\",\"Diabetes\",\"Depression\",\"HeadInjury\",\"Hypertension\",\"MemoryComplaints\",\"BehavioralProblems\",\"Confusion\",\"Disorientation\",\"PersonalityChanges\",\"DifficultyCompletingTasks\",\"Forgetfulness\",\"Diagnosis\"],\"z\":[[1.0,-0.033745124793408174,-0.031692264115477785,0.008154200002238576,0.021513537374434632,0.027433506444144166,-0.017838270426202958,-0.0011999375627211883,0.009945021133827479,0.005221740299196905,0.01614669656468927,0.030347561471617913,-0.021951180090130765,0.01912620690129598,0.007047496205708314,-0.005410749447037592,-0.039819463470033546,-0.029396689828701663],[-0.033745124793408174,1.0,0.02157107394755682,0.01625989745448277,0.03074686425551903,-0.007385829817036311,-0.031956236952870656,-0.016709844452124454,-0.00654551332096873,-0.0007075040991587475,0.009494753359857777,0.003605827012366359,0.030049221153704612,-0.02364584899519919,-0.04855343775198415,0.018706768941319018,-0.01671797040129925,0.003178609881283317],[-0.031692264115477785,0.02157107394755682,1.0,-0.01659871970268344,0.038865820241300406,0.023987936904031653,-0.004425773562836637,0.03021613519911242,-0.0037598616505203886,-0.011783652211056228,-0.006398266959437525,0.013042762159902162,-0.015951920748351802,-0.015649859629541074,-0.028314894278368717,-0.014724577145962363,-0.01052935096603311,-0.06134545726516413],[0.008154200002238576,0.01625989745448277,-0.01659871970268344,1.0,-0.041119210137834816,0.03273767412328181,-0.017454568175765656,-0.017719401596758604,-0.01715231716959221,-0.01613470206737293,0.04235876389284559,-0.022044135887183815,-0.007691511328261269,0.0023772798629737354,-0.0045022910868415394,0.029158401585726475,0.02954206495597107,-0.010112201442883374],[0.021513537374434632,0.03074686425551903,0.038865820241300406,-0.041119210137834816,1.0,0.03522164262662616,-0.02663693002433833,0.008998543034918864,-0.0024411237008638165,0.019463761293371868,-0.0516961217057377,-0.0031373290294950443,0.015481936967642615,0.026760027701963424,0.0021055922082186917,0.033435304017603536,0.037371636656467706,-0.034900142417489934],[0.027433506444144166,-0.007385829817036311,0.023987936904031653,0.03273767412328181,0.03522164262662616,1.0,-0.01243339671090363,0.0016202988857081401,0.027679259341975626,0.011601252873923705,0.039583013750858605,-0.017767134528883014,0.017284219481824712,0.029933123970542763,-0.019435904392223643,0.002092751857099474,-0.0008340580732574321,0.03651031142994268],[-0.017838270426202958,-0.031956236952870656,-0.004425773562836637,-0.017454568175765656,-0.02663693002433833,-0.01243339671090363,1.0,-0.006192617225033372,-0.01073140640214082,-0.00622070894233959,-0.030832137402334654,-0.059011979248876745,-0.004153095864421584,0.010690546304118233,-0.005819255761814943,0.003879240681036016,-0.023385976483132984,-0.036049664554461326],[-0.0011999375627211883,-0.016709844452124454,0.03021613519911242,-0.017719401596758604,0.008998543034918864,0.0016202988857081401,-0.006192617225033372,1.0,-0.008211829954484162,0.038018017015603894,-0.019697570714245192,0.017860240857896895,0.011071948717564676,0.0012951234202246953,0.013720833324451212,-0.00708796009874237,-0.0015245377621142234,0.00019660166104411837],[0.009945021133827479,-0.00654551332096873,-0.0037598616505203886,-0.01715231716959221,-0.0024411237008638165,0.027679259341975626,-0.01073140640214082,-0.008211829954484162,1.0,-0.019909164826724817,-0.024361455995387932,0.0174264231764113,-0.01202864069359476,0.030021774256858296,-0.028160425942484323,0.0184799963571723,-0.00973861085533773,-0.04641272830936362],[0.005221740299196905,-0.0007075040991587475,-0.011783652211056228,-0.01613470206737293,0.019463761293371868,0.011601252873923705,-0.00622070894233959,0.038018017015603894,-0.019909164826724817,1.0,-0.008998153288028405,0.048849336360447575,-0.008491054969861233,0.0437371474805539,-0.017201962246683623,0.017599075129684272,0.025290921979540526,0.04495204545122246],[0.01614669656468927,0.009494753359857777,-0.006398266959437525,0.04235876389284559,-0.0516961217057377,0.039583013750858605,-0.030832137402334654,-0.019697570714245192,-0.024361455995387932,-0.008998153288028405,1.0,-0.033379799762512895,-0.005613431458910961,0.014853932976662963,-0.04217356548065541,0.04159652622693877,-0.009274541917710278,0.3149335138982325],[0.030347561471617913,0.003605827012366359,0.013042762159902162,-0.022044135887183815,-0.0031373290294950443,-0.017767134528883014,-0.059011979248876745,0.017860240857896895,0.0174264231764113,0.048849336360447575,-0.033379799762512895,1.0,-0.0022545786575652463,-0.012725346559649244,0.004404720388799355,-0.04980389708939182,0.01984914852956514,0.21632053518879982],[-0.021951180090130765,0.030049221153704612,-0.015951920748351802,-0.007691511328261269,0.015481936967642615,0.017284219481824712,-0.004153095864421584,0.011071948717564676,-0.01202864069359476,-0.008491054969861233,-0.005613431458910961,-0.0022545786575652463,1.0,0.0034156552279025055,-0.006630201336113286,-0.022568210318332293,0.02601602661137375,-0.0295196179459005],[0.01912620690129598,-0.02364584899519919,-0.015649859629541074,0.0023772798629737354,0.026760027701963424,0.029933123970542763,0.010690546304118233,0.0012951234202246953,0.030021774256858296,0.0437371474805539,0.014853932976662963,-0.012725346559649244,0.0034156552279025055,1.0,-0.028406203088350387,0.0003206124254572636,-0.023963445021425354,-0.027872286908625952],[0.007047496205708314,-0.04855343775198415,-0.028314894278368717,-0.0045022910868415394,0.0021055922082186917,-0.019435904392223643,-0.005819255761814943,0.013720833324451212,-0.028160425942484323,-0.017201962246683623,-0.04217356548065541,0.004404720388799355,-0.006630201336113286,-0.028406203088350387,1.0,0.03323581433294647,-0.017705611078041947,-0.02062081654729947],[-0.005410749447037592,0.018706768941319018,-0.014724577145962363,0.029158401585726475,0.033435304017603536,0.002092751857099474,0.003879240681036016,-0.00708796009874237,0.0184799963571723,0.017599075129684272,0.04159652622693877,-0.04980389708939182,-0.022568210318332293,0.0003206124254572636,0.03323581433294647,1.0,-0.008991113510963468,-0.011445783341011017],[-0.039819463470033546,-0.01671797040129925,-0.01052935096603311,0.02954206495597107,0.037371636656467706,-0.0008340580732574321,-0.023385976483132984,-0.0015245377621142234,-0.00973861085533773,0.025290921979540526,-0.009274541917710278,0.01984914852956514,0.02601602661137375,-0.023963445021425354,-0.017705611078041947,-0.008991113510963468,1.0,0.0111878616398466],[-0.029396689828701663,0.003178609881283317,-0.06134545726516413,-0.010112201442883374,-0.034900142417489934,0.03651031142994268,-0.036049664554461326,0.00019660166104411837,-0.04641272830936362,0.04495204545122246,0.3149335138982325,0.21632053518879982,-0.0295196179459005,-0.027872286908625952,-0.02062081654729947,-0.011445783341011017,0.0111878616398466,1.0]],\"type\":\"heatmap\",\"xaxis\":\"x\",\"yaxis\":\"y\",\"hovertemplate\":\"x: %{x}\\u003cbr\\u003ey: %{y}\\u003cbr\\u003ecolor: %{z}\\u003cextra\\u003e\\u003c\\u002fextra\\u003e\"}],                        {\"template\":{\"data\":{\"barpolar\":[{\"marker\":{\"line\":{\"color\":\"rgb(17,17,17)\",\"width\":0.5},\"pattern\":{\"fillmode\":\"overlay\",\"size\":10,\"solidity\":0.2}},\"type\":\"barpolar\"}],\"bar\":[{\"error_x\":{\"color\":\"#f2f5fa\"},\"error_y\":{\"color\":\"#f2f5fa\"},\"marker\":{\"line\":{\"color\":\"rgb(17,17,17)\",\"width\":0.5},\"pattern\":{\"fillmode\":\"overlay\",\"size\":10,\"solidity\":0.2}},\"type\":\"bar\"}],\"carpet\":[{\"aaxis\":{\"endlinecolor\":\"#A2B1C6\",\"gridcolor\":\"#506784\",\"linecolor\":\"#506784\",\"minorgridcolor\":\"#506784\",\"startlinecolor\":\"#A2B1C6\"},\"baxis\":{\"endlinecolor\":\"#A2B1C6\",\"gridcolor\":\"#506784\",\"linecolor\":\"#506784\",\"minorgridcolor\":\"#506784\",\"startlinecolor\":\"#A2B1C6\"},\"type\":\"carpet\"}],\"choropleth\":[{\"colorbar\":{\"outlinewidth\":0,\"ticks\":\"\"},\"type\":\"choropleth\"}],\"contourcarpet\":[{\"colorbar\":{\"outlinewidth\":0,\"ticks\":\"\"},\"type\":\"contourcarpet\"}],\"contour\":[{\"colorbar\":{\"outlinewidth\":0,\"ticks\":\"\"},\"colorscale\":[[0.0,\"#0d0887\"],[0.1111111111111111,\"#46039f\"],[0.2222222222222222,\"#7201a8\"],[0.3333333333333333,\"#9c179e\"],[0.4444444444444444,\"#bd3786\"],[0.5555555555555556,\"#d8576b\"],[0.6666666666666666,\"#ed7953\"],[0.7777777777777778,\"#fb9f3a\"],[0.8888888888888888,\"#fdca26\"],[1.0,\"#f0f921\"]],\"type\":\"contour\"}],\"heatmapgl\":[{\"colorbar\":{\"outlinewidth\":0,\"ticks\":\"\"},\"colorscale\":[[0.0,\"#0d0887\"],[0.1111111111111111,\"#46039f\"],[0.2222222222222222,\"#7201a8\"],[0.3333333333333333,\"#9c179e\"],[0.4444444444444444,\"#bd3786\"],[0.5555555555555556,\"#d8576b\"],[0.6666666666666666,\"#ed7953\"],[0.7777777777777778,\"#fb9f3a\"],[0.8888888888888888,\"#fdca26\"],[1.0,\"#f0f921\"]],\"type\":\"heatmapgl\"}],\"heatmap\":[{\"colorbar\":{\"outlinewidth\":0,\"ticks\":\"\"},\"colorscale\":[[0.0,\"#0d0887\"],[0.1111111111111111,\"#46039f\"],[0.2222222222222222,\"#7201a8\"],[0.3333333333333333,\"#9c179e\"],[0.4444444444444444,\"#bd3786\"],[0.5555555555555556,\"#d8576b\"],[0.6666666666666666,\"#ed7953\"],[0.7777777777777778,\"#fb9f3a\"],[0.8888888888888888,\"#fdca26\"],[1.0,\"#f0f921\"]],\"type\":\"heatmap\"}],\"histogram2dcontour\":[{\"colorbar\":{\"outlinewidth\":0,\"ticks\":\"\"},\"colorscale\":[[0.0,\"#0d0887\"],[0.1111111111111111,\"#46039f\"],[0.2222222222222222,\"#7201a8\"],[0.3333333333333333,\"#9c179e\"],[0.4444444444444444,\"#bd3786\"],[0.5555555555555556,\"#d8576b\"],[0.6666666666666666,\"#ed7953\"],[0.7777777777777778,\"#fb9f3a\"],[0.8888888888888888,\"#fdca26\"],[1.0,\"#f0f921\"]],\"type\":\"histogram2dcontour\"}],\"histogram2d\":[{\"colorbar\":{\"outlinewidth\":0,\"ticks\":\"\"},\"colorscale\":[[0.0,\"#0d0887\"],[0.1111111111111111,\"#46039f\"],[0.2222222222222222,\"#7201a8\"],[0.3333333333333333,\"#9c179e\"],[0.4444444444444444,\"#bd3786\"],[0.5555555555555556,\"#d8576b\"],[0.6666666666666666,\"#ed7953\"],[0.7777777777777778,\"#fb9f3a\"],[0.8888888888888888,\"#fdca26\"],[1.0,\"#f0f921\"]],\"type\":\"histogram2d\"}],\"histogram\":[{\"marker\":{\"pattern\":{\"fillmode\":\"overlay\",\"size\":10,\"solidity\":0.2}},\"type\":\"histogram\"}],\"mesh3d\":[{\"colorbar\":{\"outlinewidth\":0,\"ticks\":\"\"},\"type\":\"mesh3d\"}],\"parcoords\":[{\"line\":{\"colorbar\":{\"outlinewidth\":0,\"ticks\":\"\"}},\"type\":\"parcoords\"}],\"pie\":[{\"automargin\":true,\"type\":\"pie\"}],\"scatter3d\":[{\"line\":{\"colorbar\":{\"outlinewidth\":0,\"ticks\":\"\"}},\"marker\":{\"colorbar\":{\"outlinewidth\":0,\"ticks\":\"\"}},\"type\":\"scatter3d\"}],\"scattercarpet\":[{\"marker\":{\"colorbar\":{\"outlinewidth\":0,\"ticks\":\"\"}},\"type\":\"scattercarpet\"}],\"scattergeo\":[{\"marker\":{\"colorbar\":{\"outlinewidth\":0,\"ticks\":\"\"}},\"type\":\"scattergeo\"}],\"scattergl\":[{\"marker\":{\"line\":{\"color\":\"#283442\"}},\"type\":\"scattergl\"}],\"scattermapbox\":[{\"marker\":{\"colorbar\":{\"outlinewidth\":0,\"ticks\":\"\"}},\"type\":\"scattermapbox\"}],\"scatterpolargl\":[{\"marker\":{\"colorbar\":{\"outlinewidth\":0,\"ticks\":\"\"}},\"type\":\"scatterpolargl\"}],\"scatterpolar\":[{\"marker\":{\"colorbar\":{\"outlinewidth\":0,\"ticks\":\"\"}},\"type\":\"scatterpolar\"}],\"scatter\":[{\"marker\":{\"line\":{\"color\":\"#283442\"}},\"type\":\"scatter\"}],\"scatterternary\":[{\"marker\":{\"colorbar\":{\"outlinewidth\":0,\"ticks\":\"\"}},\"type\":\"scatterternary\"}],\"surface\":[{\"colorbar\":{\"outlinewidth\":0,\"ticks\":\"\"},\"colorscale\":[[0.0,\"#0d0887\"],[0.1111111111111111,\"#46039f\"],[0.2222222222222222,\"#7201a8\"],[0.3333333333333333,\"#9c179e\"],[0.4444444444444444,\"#bd3786\"],[0.5555555555555556,\"#d8576b\"],[0.6666666666666666,\"#ed7953\"],[0.7777777777777778,\"#fb9f3a\"],[0.8888888888888888,\"#fdca26\"],[1.0,\"#f0f921\"]],\"type\":\"surface\"}],\"table\":[{\"cells\":{\"fill\":{\"color\":\"#506784\"},\"line\":{\"color\":\"rgb(17,17,17)\"}},\"header\":{\"fill\":{\"color\":\"#2a3f5f\"},\"line\":{\"color\":\"rgb(17,17,17)\"}},\"type\":\"table\"}]},\"layout\":{\"annotationdefaults\":{\"arrowcolor\":\"#f2f5fa\",\"arrowhead\":0,\"arrowwidth\":1},\"autotypenumbers\":\"strict\",\"coloraxis\":{\"colorbar\":{\"outlinewidth\":0,\"ticks\":\"\"}},\"colorscale\":{\"diverging\":[[0,\"#8e0152\"],[0.1,\"#c51b7d\"],[0.2,\"#de77ae\"],[0.3,\"#f1b6da\"],[0.4,\"#fde0ef\"],[0.5,\"#f7f7f7\"],[0.6,\"#e6f5d0\"],[0.7,\"#b8e186\"],[0.8,\"#7fbc41\"],[0.9,\"#4d9221\"],[1,\"#276419\"]],\"sequential\":[[0.0,\"#0d0887\"],[0.1111111111111111,\"#46039f\"],[0.2222222222222222,\"#7201a8\"],[0.3333333333333333,\"#9c179e\"],[0.4444444444444444,\"#bd3786\"],[0.5555555555555556,\"#d8576b\"],[0.6666666666666666,\"#ed7953\"],[0.7777777777777778,\"#fb9f3a\"],[0.8888888888888888,\"#fdca26\"],[1.0,\"#f0f921\"]],\"sequentialminus\":[[0.0,\"#0d0887\"],[0.1111111111111111,\"#46039f\"],[0.2222222222222222,\"#7201a8\"],[0.3333333333333333,\"#9c179e\"],[0.4444444444444444,\"#bd3786\"],[0.5555555555555556,\"#d8576b\"],[0.6666666666666666,\"#ed7953\"],[0.7777777777777778,\"#fb9f3a\"],[0.8888888888888888,\"#fdca26\"],[1.0,\"#f0f921\"]]},\"colorway\":[\"#636efa\",\"#EF553B\",\"#00cc96\",\"#ab63fa\",\"#FFA15A\",\"#19d3f3\",\"#FF6692\",\"#B6E880\",\"#FF97FF\",\"#FECB52\"],\"font\":{\"color\":\"#f2f5fa\"},\"geo\":{\"bgcolor\":\"rgb(17,17,17)\",\"lakecolor\":\"rgb(17,17,17)\",\"landcolor\":\"rgb(17,17,17)\",\"showlakes\":true,\"showland\":true,\"subunitcolor\":\"#506784\"},\"hoverlabel\":{\"align\":\"left\"},\"hovermode\":\"closest\",\"mapbox\":{\"style\":\"dark\"},\"paper_bgcolor\":\"rgb(17,17,17)\",\"plot_bgcolor\":\"rgb(17,17,17)\",\"polar\":{\"angularaxis\":{\"gridcolor\":\"#506784\",\"linecolor\":\"#506784\",\"ticks\":\"\"},\"bgcolor\":\"rgb(17,17,17)\",\"radialaxis\":{\"gridcolor\":\"#506784\",\"linecolor\":\"#506784\",\"ticks\":\"\"}},\"scene\":{\"xaxis\":{\"backgroundcolor\":\"rgb(17,17,17)\",\"gridcolor\":\"#506784\",\"gridwidth\":2,\"linecolor\":\"#506784\",\"showbackground\":true,\"ticks\":\"\",\"zerolinecolor\":\"#C8D4E3\"},\"yaxis\":{\"backgroundcolor\":\"rgb(17,17,17)\",\"gridcolor\":\"#506784\",\"gridwidth\":2,\"linecolor\":\"#506784\",\"showbackground\":true,\"ticks\":\"\",\"zerolinecolor\":\"#C8D4E3\"},\"zaxis\":{\"backgroundcolor\":\"rgb(17,17,17)\",\"gridcolor\":\"#506784\",\"gridwidth\":2,\"linecolor\":\"#506784\",\"showbackground\":true,\"ticks\":\"\",\"zerolinecolor\":\"#C8D4E3\"}},\"shapedefaults\":{\"line\":{\"color\":\"#f2f5fa\"}},\"sliderdefaults\":{\"bgcolor\":\"#C8D4E3\",\"bordercolor\":\"rgb(17,17,17)\",\"borderwidth\":1,\"tickwidth\":0},\"ternary\":{\"aaxis\":{\"gridcolor\":\"#506784\",\"linecolor\":\"#506784\",\"ticks\":\"\"},\"baxis\":{\"gridcolor\":\"#506784\",\"linecolor\":\"#506784\",\"ticks\":\"\"},\"bgcolor\":\"rgb(17,17,17)\",\"caxis\":{\"gridcolor\":\"#506784\",\"linecolor\":\"#506784\",\"ticks\":\"\"}},\"title\":{\"x\":0.05},\"updatemenudefaults\":{\"bgcolor\":\"#506784\",\"borderwidth\":0},\"xaxis\":{\"automargin\":true,\"gridcolor\":\"#283442\",\"linecolor\":\"#506784\",\"ticks\":\"\",\"title\":{\"standoff\":15},\"zerolinecolor\":\"#283442\",\"zerolinewidth\":2},\"yaxis\":{\"automargin\":true,\"gridcolor\":\"#283442\",\"linecolor\":\"#506784\",\"ticks\":\"\",\"title\":{\"standoff\":15},\"zerolinecolor\":\"#283442\",\"zerolinewidth\":2}}},\"xaxis\":{\"anchor\":\"y\",\"domain\":[0.0,1.0]},\"yaxis\":{\"anchor\":\"x\",\"domain\":[0.0,1.0],\"autorange\":\"reversed\"},\"coloraxis\":{\"colorscale\":[[0.0,\"#00224e\"],[0.1111111111111111,\"#123570\"],[0.2222222222222222,\"#3b496c\"],[0.3333333333333333,\"#575d6d\"],[0.4444444444444444,\"#707173\"],[0.5555555555555556,\"#8a8678\"],[0.6666666666666666,\"#a59c74\"],[0.7777777777777778,\"#c3b369\"],[0.8888888888888888,\"#e1cc55\"],[1.0,\"#fee838\"]]},\"title\":{\"text\":\"Correlation Matrix for Categorical Columns vs. Target Label\"},\"margin\":{\"l\":0,\"r\":0,\"t\":50,\"b\":0},\"plot_bgcolor\":\"rgba(0,0,0,0)\",\"paper_bgcolor\":\"rgba(0,0,0,0)\",\"height\":600,\"hovermode\":\"closest\"},                        {\"responsive\": true}                    ).then(function(){\n",
       "                            \n",
       "var gd = document.getElementById('ac38b357-0c2a-4626-8eea-265aa1afa40b');\n",
       "var x = new MutationObserver(function (mutations, observer) {{\n",
       "        var display = window.getComputedStyle(gd).display;\n",
       "        if (!display || display === 'none') {{\n",
       "            console.log([gd, 'removed!']);\n",
       "            Plotly.purge(gd);\n",
       "            observer.disconnect();\n",
       "        }}\n",
       "}});\n",
       "\n",
       "// Listen for the removal of the full notebook cells\n",
       "var notebookContainer = gd.closest('#notebook-container');\n",
       "if (notebookContainer) {{\n",
       "    x.observe(notebookContainer, {childList: true});\n",
       "}}\n",
       "\n",
       "// Listen for the clearing of the current output cell\n",
       "var outputEl = gd.closest('.output');\n",
       "if (outputEl) {{\n",
       "    x.observe(outputEl, {childList: true});\n",
       "}}\n",
       "\n",
       "                        })                };                });            </script>        </div>"
      ]
     },
     "metadata": {},
     "output_type": "display_data"
    }
   ],
   "source": [
    "categorical_columns = [column for column in alz_dis_df_train.columns if set(alz_dis_df_train[column].unique()) <= {0,1,2,3}]\n",
    "\n",
    "category_df = alz_dis_df_train[categorical_columns]\n",
    "\n",
    "cat_corr = category_df.corr()\n",
    "\n",
    "htmp = plotly.express.imshow(\n",
    "    cat_corr,\n",
    "    aspect=\"auto\",\n",
    "    title=\"Correlation Matrix for Categorical Columns vs. Target Label\",\n",
    "    text_auto=\".2f\",\n",
    "    color_continuous_scale=\"cividis\"\n",
    ")\n",
    "\n",
    "htmp.update_layout(\n",
    "    plot_bgcolor=\"rgba(0,0,0,0)\",\n",
    "    paper_bgcolor=\"rgba(0,0,0,0)\",\n",
    "    margin={\"l\":0,\"r\":0,\"t\":50,\"b\":0},\n",
    "    height=600,\n",
    "    template=\"plotly_dark\",\n",
    "    hovermode=\"closest\"\n",
    "    )\n",
    "\n",
    "htmp.show()"
   ]
  },
  {
   "cell_type": "markdown",
   "id": "10d151e1-0c9e-42bf-9965-80df0e36c0c4",
   "metadata": {},
   "source": [
    "The correlation matrix between categorical features and the target label produce interesting results. The correlation coefficient or various features have outputted many features that have less thatn 0.05 correlation against the target label `Diagnosis`. This indicates that the target is  approximately linearly independent of such features. Hence, these redundant features will be focused on elimination in the **FEATURE ENGINEERING SECTION**"
   ]
  },
  {
   "cell_type": "markdown",
   "id": "ea260839-e82d-48f8-8131-adcbb6b3e7cd",
   "metadata": {},
   "source": [
    "##### 4.4.5 Distribution of Age and Education Level against Target Label"
   ]
  },
  {
   "cell_type": "code",
   "execution_count": 79,
   "id": "0491ee8b-e5f9-4adc-a9d0-3f786739ff42",
   "metadata": {},
   "outputs": [
    {
     "data": {
      "image/png": "[encoded data removed]",
      "text/plain": [
       "<Figure size 1200x1200 with 2 Axes>"
      ]
     },
     "metadata": {},
     "output_type": "display_data"
    }
   ],
   "source": [
    "plot, (ax0, ax1) = pyplot.subplots(nrows=2, ncols=1, figsize=(12, 12))\n",
    "\n",
    "seaborn.set(style=\"dark\", palette=\"dark\")\n",
    "pyplot.style.use(\"dark_background\")\n",
    "\n",
    "seaborn.histplot(data=alz_dis_df_train, x=\"Age\", hue=\"Diagnosis\", palette=\"GnBu\", ax=ax0)\n",
    "seaborn.histplot(data=alz_dis_df_train, x=\"EducationLevel\", hue=\"Diagnosis\", palette=\"Wistia\", ax=ax1, bins=4)\n",
    "\n",
    "ax1.set_xticks([0, 1, 2, 3])\n",
    "\n",
    "pyplot.xticks(rotation=0, ha=\"right\", color=\"white\")\n",
    "pyplot.yticks(color=\"white\")\n",
    "pyplot.tight_layout()\n",
    "\n",
    "pyplot.show();"
   ]
  },
  {
   "cell_type": "markdown",
   "id": "5bf5bfca-c09f-4896-b326-4c1030e4f34e",
   "metadata": {},
   "source": [
    "The above visuals show a clear concensus in these factors that are relevant to the target label:\n",
    "\n",
    "1. There is an approximate 50% observation of confirmed Alzheimer's cases as age elevates between ages of 50 - 80 with greater detection between the ages of 70 and 85.\n",
    "2. People with lower education level at 0 have a higher possibility of being diagnosed with Alzheimer's which reduces greatly at Education Level 3."
   ]
  },
  {
   "cell_type": "markdown",
   "id": "4cb5486a-3c18-4906-a276-ee954323c4d6",
   "metadata": {},
   "source": [
    "##### 4.4.6 Numerical Columns Correlation vs. Target"
   ]
  },
  {
   "cell_type": "code",
   "execution_count": 80,
   "id": "a696a097-bf3b-43de-89d9-b94f63b5619b",
   "metadata": {},
   "outputs": [
    {
     "data": {
      "application/vnd.plotly.v1+json": {
       "config": {
        "plotlyServerURL": "https://plot.ly"
       },
       "data": [
        {
         "coloraxis": "coloraxis",
         "hovertemplate": "x: %{x}<br>y: %{y}<br>color: %{z}<extra></extra>",
         "name": "0",
         "texttemplate": "%{z:.2f}",
         "type": "heatmap",
         "x": [
          "Age",
          "BMI",
          "AlcoholConsumption",
          "PhysicalActivity",
          "DietQuality",
          "SleepQuality",
          "SystolicBP",
          "DiastolicBP",
          "CholesterolTotal",
          "CholesterolLDL",
          "CholesterolHDL",
          "CholesterolTriglycerides",
          "MMSE",
          "FunctionalAssessment",
          "ADL",
          "Diagnosis"
         ],
         "xaxis": "x",
         "y": [
          "Age",
          "BMI",
          "AlcoholConsumption",
          "PhysicalActivity",
          "DietQuality",
          "SleepQuality",
          "SystolicBP",
          "DiastolicBP",
          "CholesterolTotal",
          "CholesterolLDL",
          "CholesterolHDL",
          "CholesterolTriglycerides",
          "MMSE",
          "FunctionalAssessment",
          "ADL",
          "Diagnosis"
         ],
         "yaxis": "y",
         "z": [
          [
           1,
           -0.03971925687239052,
           0.016607975090032253,
           -0.02534980080739061,
           -0.028535213659636932,
           0.02659497880322621,
           -0.0063582992638926035,
           -0.013598337022655236,
           0.011126485033830128,
           0.03402355231687712,
           -0.008957894528916582,
           0.01245885022319723,
           -0.006355892435727532,
           0.030175767390223252,
           -0.049602293000758295,
           -0.013528171628581356
          ],
          [
           -0.03971925687239052,
           1,
           -0.03191481567143988,
           -0.008368419954652534,
           0.019818304884405308,
           0.017470135056009296,
           -0.030698440953762597,
           -0.020491142681899537,
           -0.009696590178321281,
           0.05021744650977647,
           0.015384971475964156,
           0.002085561618059373,
           -0.005672475956798834,
           -0.016082620595260787,
           0.019417823937949705,
           0.01834974317955167
          ],
          [
           0.016607975090032253,
           -0.03191481567143988,
           1,
           0.016680604064877463,
           0.01312173784835204,
           -0.0003241214397330861,
           -0.03089055545412527,
           -0.027084372452344817,
           -0.03300576535270207,
           -0.01956876364763274,
           -0.02062936478860538,
           0.026408184326810403,
           -0.01955809146129296,
           -0.03676477244819086,
           0.013593491746062256,
           -0.0026031676162593426
          ],
          [
           -0.02534980080739061,
           -0.008368419954652534,
           0.016680604064877463,
           1,
           0.005713502402631607,
           -0.007441018054434996,
           -0.0008621286903567755,
           -0.0022549412230590455,
           0.037058384036018174,
           0.020250742330663582,
           -0.009264851077367669,
           0.02877262184896052,
           0.0019729164495076307,
           -0.0013311133708194967,
           -0.019685422532795066,
           -0.008167466496212509
          ],
          [
           -0.028535213659636932,
           0.019818304884405308,
           0.01312173784835204,
           0.005713502402631607,
           1,
           0.053598717412978045,
           -0.007350228033041781,
           0.007262513235090388,
           -0.03050557254559802,
           -0.007954788634393181,
           0.0031868115569351286,
           0.03214944241919501,
           0.025490098697709514,
           0.021995011740066003,
           -0.0034096252632629534,
           0.006145748258178512
          ],
          [
           0.02659497880322621,
           0.017470135056009296,
           -0.0003241214397330861,
           -0.007441018054434996,
           0.053598717412978045,
           1,
           -0.013345229895177804,
           0.01022778905899062,
           0.046126364263019574,
           0.0054460471316384535,
           0.047158905118973415,
           0.013892647980557381,
           0.01686154147338799,
           0.03993617056004527,
           -0.0031522361408029003,
           -0.04904591291345291
          ],
          [
           -0.0063582992638926035,
           -0.030698440953762597,
           -0.03089055545412527,
           -0.0008621286903567755,
           -0.007350228033041781,
           -0.013345229895177804,
           1,
           -0.00033129739657713467,
           0.014090612809811436,
           -0.020653533881928126,
           -0.008470848592535683,
           -0.028209679620743285,
           0.021096738294304602,
           0.03342388272309016,
           0.014171734799771884,
           -0.02002329228648297
          ],
          [
           -0.013598337022655236,
           -0.020491142681899537,
           -0.027084372452344817,
           -0.0022549412230590455,
           0.007262513235090388,
           0.01022778905899062,
           -0.00033129739657713467,
           1,
           0.023073118073801357,
           -0.014643681424066302,
           -0.005058117216983359,
           0.009965571832272035,
           -0.018721914206195973,
           0.011167117126569807,
           0.022704289324825114,
           0.019875997273822665
          ],
          [
           0.011126485033830128,
           -0.009696590178321281,
           -0.03300576535270207,
           0.037058384036018174,
           -0.03050557254559802,
           0.046126364263019574,
           0.014090612809811436,
           0.023073118073801357,
           1,
           0.006686674449150029,
           -0.005715182336397525,
           -0.010027846344564106,
           -0.019130001393497256,
           -0.0267433028550502,
           0.023811057841034527,
           -0.0025364356326017267
          ],
          [
           0.03402355231687712,
           0.05021744650977647,
           -0.01956876364763274,
           0.020250742330663582,
           -0.007954788634393181,
           0.0054460471316384535,
           -0.020653533881928126,
           -0.014643681424066302,
           0.006686674449150029,
           1,
           -0.013711113492954246,
           -0.028643166304047507,
           0.005313755573502818,
           -0.036644519977770455,
           -0.0068910463987262895,
           -0.0005093193813581574
          ],
          [
           -0.008957894528916582,
           0.015384971475964156,
           -0.02062936478860538,
           -0.009264851077367669,
           0.0031868115569351286,
           0.047158905118973415,
           -0.008470848592535683,
           -0.005058117216983359,
           -0.005715182336397525,
           -0.013711113492954246,
           1,
           0.0265788295744343,
           -0.003321054286160693,
           0.00834179699154604,
           -0.015548213577636723,
           0.05666299605106007
          ],
          [
           0.01245885022319723,
           0.002085561618059373,
           0.026408184326810403,
           0.02877262184896052,
           0.03214944241919501,
           0.013892647980557381,
           -0.028209679620743285,
           0.009965571832272035,
           -0.010027846344564106,
           -0.028643166304047507,
           0.0265788295744343,
           1,
           0.008881814795949409,
           -0.027501675193050287,
           0.04609370772470729,
           0.03286136283263825
          ],
          [
           -0.006355892435727532,
           -0.005672475956798834,
           -0.01955809146129296,
           0.0019729164495076307,
           0.025490098697709514,
           0.01686154147338799,
           0.021096738294304602,
           -0.018721914206195973,
           -0.019130001393497256,
           0.005313755573502818,
           -0.003321054286160693,
           0.008881814795949409,
           1,
           0.02270674310198866,
           0.0115071544488228,
           -0.23269327629526418
          ],
          [
           0.030175767390223252,
           -0.016082620595260787,
           -0.03676477244819086,
           -0.0013311133708194967,
           0.021995011740066003,
           0.03993617056004527,
           0.03342388272309016,
           0.011167117126569807,
           -0.0267433028550502,
           -0.036644519977770455,
           0.00834179699154604,
           -0.027501675193050287,
           0.02270674310198866,
           1,
           0.04170880612892814,
           -0.37384408760249155
          ],
          [
           -0.049602293000758295,
           0.019417823937949705,
           0.013593491746062256,
           -0.019685422532795066,
           -0.0034096252632629534,
           -0.0031522361408029003,
           0.014171734799771884,
           0.022704289324825114,
           0.023811057841034527,
           -0.0068910463987262895,
           -0.015548213577636723,
           0.04609370772470729,
           0.0115071544488228,
           0.04170880612892814,
           1,
           -0.3216861021210505
          ],
          [
           -0.013528171628581356,
           0.01834974317955167,
           -0.0026031676162593426,
           -0.008167466496212509,
           0.006145748258178512,
           -0.04904591291345291,
           -0.02002329228648297,
           0.019875997273822665,
           -0.0025364356326017267,
           -0.0005093193813581574,
           0.05666299605106007,
           0.03286136283263825,
           -0.23269327629526418,
           -0.37384408760249155,
           -0.3216861021210505,
           1
          ]
         ]
        }
       ],
       "layout": {
        "autosize": true,
        "coloraxis": {
         "colorscale": [
          [
           0,
           "rgb(255,255,217)"
          ],
          [
           0.125,
           "rgb(237,248,177)"
          ],
          [
           0.25,
           "rgb(199,233,180)"
          ],
          [
           0.375,
           "rgb(127,205,187)"
          ],
          [
           0.5,
           "rgb(65,182,196)"
          ],
          [
           0.625,
           "rgb(29,145,192)"
          ],
          [
           0.75,
           "rgb(34,94,168)"
          ],
          [
           0.875,
           "rgb(37,52,148)"
          ],
          [
           1,
           "rgb(8,29,88)"
          ]
         ]
        },
        "hovermode": "closest",
        "margin": {
         "b": 0,
         "l": 0,
         "r": 0,
         "t": 50
        },
        "paper_bgcolor": "rgba(0, 0, 0, 0)",
        "plot_bgcolor": "rgba(0, 0, 0, 0)",
        "template": {
         "data": {
          "bar": [
           {
            "error_x": {
             "color": "#f2f5fa"
            },
            "error_y": {
             "color": "#f2f5fa"
            },
            "marker": {
             "line": {
              "color": "rgb(17,17,17)",
              "width": 0.5
             },
             "pattern": {
              "fillmode": "overlay",
              "size": 10,
              "solidity": 0.2
             }
            },
            "type": "bar"
           }
          ],
          "barpolar": [
           {
            "marker": {
             "line": {
              "color": "rgb(17,17,17)",
              "width": 0.5
             },
             "pattern": {
              "fillmode": "overlay",
              "size": 10,
              "solidity": 0.2
             }
            },
            "type": "barpolar"
           }
          ],
          "carpet": [
           {
            "aaxis": {
             "endlinecolor": "#A2B1C6",
             "gridcolor": "#506784",
             "linecolor": "#506784",
             "minorgridcolor": "#506784",
             "startlinecolor": "#A2B1C6"
            },
            "baxis": {
             "endlinecolor": "#A2B1C6",
             "gridcolor": "#506784",
             "linecolor": "#506784",
             "minorgridcolor": "#506784",
             "startlinecolor": "#A2B1C6"
            },
            "type": "carpet"
           }
          ],
          "choropleth": [
           {
            "colorbar": {
             "outlinewidth": 0,
             "ticks": ""
            },
            "type": "choropleth"
           }
          ],
          "contour": [
           {
            "colorbar": {
             "outlinewidth": 0,
             "ticks": ""
            },
            "colorscale": [
             [
              0,
              "#0d0887"
             ],
             [
              0.1111111111111111,
              "#46039f"
             ],
             [
              0.2222222222222222,
              "#7201a8"
             ],
             [
              0.3333333333333333,
              "#9c179e"
             ],
             [
              0.4444444444444444,
              "#bd3786"
             ],
             [
              0.5555555555555556,
              "#d8576b"
             ],
             [
              0.6666666666666666,
              "#ed7953"
             ],
             [
              0.7777777777777778,
              "#fb9f3a"
             ],
             [
              0.8888888888888888,
              "#fdca26"
             ],
             [
              1,
              "#f0f921"
             ]
            ],
            "type": "contour"
           }
          ],
          "contourcarpet": [
           {
            "colorbar": {
             "outlinewidth": 0,
             "ticks": ""
            },
            "type": "contourcarpet"
           }
          ],
          "heatmap": [
           {
            "colorbar": {
             "outlinewidth": 0,
             "ticks": ""
            },
            "colorscale": [
             [
              0,
              "#0d0887"
             ],
             [
              0.1111111111111111,
              "#46039f"
             ],
             [
              0.2222222222222222,
              "#7201a8"
             ],
             [
              0.3333333333333333,
              "#9c179e"
             ],
             [
              0.4444444444444444,
              "#bd3786"
             ],
             [
              0.5555555555555556,
              "#d8576b"
             ],
             [
              0.6666666666666666,
              "#ed7953"
             ],
             [
              0.7777777777777778,
              "#fb9f3a"
             ],
             [
              0.8888888888888888,
              "#fdca26"
             ],
             [
              1,
              "#f0f921"
             ]
            ],
            "type": "heatmap"
           }
          ],
          "heatmapgl": [
           {
            "colorbar": {
             "outlinewidth": 0,
             "ticks": ""
            },
            "colorscale": [
             [
              0,
              "#0d0887"
             ],
             [
              0.1111111111111111,
              "#46039f"
             ],
             [
              0.2222222222222222,
              "#7201a8"
             ],
             [
              0.3333333333333333,
              "#9c179e"
             ],
             [
              0.4444444444444444,
              "#bd3786"
             ],
             [
              0.5555555555555556,
              "#d8576b"
             ],
             [
              0.6666666666666666,
              "#ed7953"
             ],
             [
              0.7777777777777778,
              "#fb9f3a"
             ],
             [
              0.8888888888888888,
              "#fdca26"
             ],
             [
              1,
              "#f0f921"
             ]
            ],
            "type": "heatmapgl"
           }
          ],
          "histogram": [
           {
            "marker": {
             "pattern": {
              "fillmode": "overlay",
              "size": 10,
              "solidity": 0.2
             }
            },
            "type": "histogram"
           }
          ],
          "histogram2d": [
           {
            "colorbar": {
             "outlinewidth": 0,
             "ticks": ""
            },
            "colorscale": [
             [
              0,
              "#0d0887"
             ],
             [
              0.1111111111111111,
              "#46039f"
             ],
             [
              0.2222222222222222,
              "#7201a8"
             ],
             [
              0.3333333333333333,
              "#9c179e"
             ],
             [
              0.4444444444444444,
              "#bd3786"
             ],
             [
              0.5555555555555556,
              "#d8576b"
             ],
             [
              0.6666666666666666,
              "#ed7953"
             ],
             [
              0.7777777777777778,
              "#fb9f3a"
             ],
             [
              0.8888888888888888,
              "#fdca26"
             ],
             [
              1,
              "#f0f921"
             ]
            ],
            "type": "histogram2d"
           }
          ],
          "histogram2dcontour": [
           {
            "colorbar": {
             "outlinewidth": 0,
             "ticks": ""
            },
            "colorscale": [
             [
              0,
              "#0d0887"
             ],
             [
              0.1111111111111111,
              "#46039f"
             ],
             [
              0.2222222222222222,
              "#7201a8"
             ],
             [
              0.3333333333333333,
              "#9c179e"
             ],
             [
              0.4444444444444444,
              "#bd3786"
             ],
             [
              0.5555555555555556,
              "#d8576b"
             ],
             [
              0.6666666666666666,
              "#ed7953"
             ],
             [
              0.7777777777777778,
              "#fb9f3a"
             ],
             [
              0.8888888888888888,
              "#fdca26"
             ],
             [
              1,
              "#f0f921"
             ]
            ],
            "type": "histogram2dcontour"
           }
          ],
          "mesh3d": [
           {
            "colorbar": {
             "outlinewidth": 0,
             "ticks": ""
            },
            "type": "mesh3d"
           }
          ],
          "parcoords": [
           {
            "line": {
             "colorbar": {
              "outlinewidth": 0,
              "ticks": ""
             }
            },
            "type": "parcoords"
           }
          ],
          "pie": [
           {
            "automargin": true,
            "type": "pie"
           }
          ],
          "scatter": [
           {
            "marker": {
             "line": {
              "color": "#283442"
             }
            },
            "type": "scatter"
           }
          ],
          "scatter3d": [
           {
            "line": {
             "colorbar": {
              "outlinewidth": 0,
              "ticks": ""
             }
            },
            "marker": {
             "colorbar": {
              "outlinewidth": 0,
              "ticks": ""
             }
            },
            "type": "scatter3d"
           }
          ],
          "scattercarpet": [
           {
            "marker": {
             "colorbar": {
              "outlinewidth": 0,
              "ticks": ""
             }
            },
            "type": "scattercarpet"
           }
          ],
          "scattergeo": [
           {
            "marker": {
             "colorbar": {
              "outlinewidth": 0,
              "ticks": ""
             }
            },
            "type": "scattergeo"
           }
          ],
          "scattergl": [
           {
            "marker": {
             "line": {
              "color": "#283442"
             }
            },
            "type": "scattergl"
           }
          ],
          "scattermapbox": [
           {
            "marker": {
             "colorbar": {
              "outlinewidth": 0,
              "ticks": ""
             }
            },
            "type": "scattermapbox"
           }
          ],
          "scatterpolar": [
           {
            "marker": {
             "colorbar": {
              "outlinewidth": 0,
              "ticks": ""
             }
            },
            "type": "scatterpolar"
           }
          ],
          "scatterpolargl": [
           {
            "marker": {
             "colorbar": {
              "outlinewidth": 0,
              "ticks": ""
             }
            },
            "type": "scatterpolargl"
           }
          ],
          "scatterternary": [
           {
            "marker": {
             "colorbar": {
              "outlinewidth": 0,
              "ticks": ""
             }
            },
            "type": "scatterternary"
           }
          ],
          "surface": [
           {
            "colorbar": {
             "outlinewidth": 0,
             "ticks": ""
            },
            "colorscale": [
             [
              0,
              "#0d0887"
             ],
             [
              0.1111111111111111,
              "#46039f"
             ],
             [
              0.2222222222222222,
              "#7201a8"
             ],
             [
              0.3333333333333333,
              "#9c179e"
             ],
             [
              0.4444444444444444,
              "#bd3786"
             ],
             [
              0.5555555555555556,
              "#d8576b"
             ],
             [
              0.6666666666666666,
              "#ed7953"
             ],
             [
              0.7777777777777778,
              "#fb9f3a"
             ],
             [
              0.8888888888888888,
              "#fdca26"
             ],
             [
              1,
              "#f0f921"
             ]
            ],
            "type": "surface"
           }
          ],
          "table": [
           {
            "cells": {
             "fill": {
              "color": "#506784"
             },
             "line": {
              "color": "rgb(17,17,17)"
             }
            },
            "header": {
             "fill": {
              "color": "#2a3f5f"
             },
             "line": {
              "color": "rgb(17,17,17)"
             }
            },
            "type": "table"
           }
          ]
         },
         "layout": {
          "annotationdefaults": {
           "arrowcolor": "#f2f5fa",
           "arrowhead": 0,
           "arrowwidth": 1
          },
          "autotypenumbers": "strict",
          "coloraxis": {
           "colorbar": {
            "outlinewidth": 0,
            "ticks": ""
           }
          },
          "colorscale": {
           "diverging": [
            [
             0,
             "#8e0152"
            ],
            [
             0.1,
             "#c51b7d"
            ],
            [
             0.2,
             "#de77ae"
            ],
            [
             0.3,
             "#f1b6da"
            ],
            [
             0.4,
             "#fde0ef"
            ],
            [
             0.5,
             "#f7f7f7"
            ],
            [
             0.6,
             "#e6f5d0"
            ],
            [
             0.7,
             "#b8e186"
            ],
            [
             0.8,
             "#7fbc41"
            ],
            [
             0.9,
             "#4d9221"
            ],
            [
             1,
             "#276419"
            ]
           ],
           "sequential": [
            [
             0,
             "#0d0887"
            ],
            [
             0.1111111111111111,
             "#46039f"
            ],
            [
             0.2222222222222222,
             "#7201a8"
            ],
            [
             0.3333333333333333,
             "#9c179e"
            ],
            [
             0.4444444444444444,
             "#bd3786"
            ],
            [
             0.5555555555555556,
             "#d8576b"
            ],
            [
             0.6666666666666666,
             "#ed7953"
            ],
            [
             0.7777777777777778,
             "#fb9f3a"
            ],
            [
             0.8888888888888888,
             "#fdca26"
            ],
            [
             1,
             "#f0f921"
            ]
           ],
           "sequentialminus": [
            [
             0,
             "#0d0887"
            ],
            [
             0.1111111111111111,
             "#46039f"
            ],
            [
             0.2222222222222222,
             "#7201a8"
            ],
            [
             0.3333333333333333,
             "#9c179e"
            ],
            [
             0.4444444444444444,
             "#bd3786"
            ],
            [
             0.5555555555555556,
             "#d8576b"
            ],
            [
             0.6666666666666666,
             "#ed7953"
            ],
            [
             0.7777777777777778,
             "#fb9f3a"
            ],
            [
             0.8888888888888888,
             "#fdca26"
            ],
            [
             1,
             "#f0f921"
            ]
           ]
          },
          "colorway": [
           "#636efa",
           "#EF553B",
           "#00cc96",
           "#ab63fa",
           "#FFA15A",
           "#19d3f3",
           "#FF6692",
           "#B6E880",
           "#FF97FF",
           "#FECB52"
          ],
          "font": {
           "color": "#f2f5fa"
          },
          "geo": {
           "bgcolor": "rgb(17,17,17)",
           "lakecolor": "rgb(17,17,17)",
           "landcolor": "rgb(17,17,17)",
           "showlakes": true,
           "showland": true,
           "subunitcolor": "#506784"
          },
          "hoverlabel": {
           "align": "left"
          },
          "hovermode": "closest",
          "mapbox": {
           "style": "dark"
          },
          "paper_bgcolor": "rgb(17,17,17)",
          "plot_bgcolor": "rgb(17,17,17)",
          "polar": {
           "angularaxis": {
            "gridcolor": "#506784",
            "linecolor": "#506784",
            "ticks": ""
           },
           "bgcolor": "rgb(17,17,17)",
           "radialaxis": {
            "gridcolor": "#506784",
            "linecolor": "#506784",
            "ticks": ""
           }
          },
          "scene": {
           "xaxis": {
            "backgroundcolor": "rgb(17,17,17)",
            "gridcolor": "#506784",
            "gridwidth": 2,
            "linecolor": "#506784",
            "showbackground": true,
            "ticks": "",
            "zerolinecolor": "#C8D4E3"
           },
           "yaxis": {
            "backgroundcolor": "rgb(17,17,17)",
            "gridcolor": "#506784",
            "gridwidth": 2,
            "linecolor": "#506784",
            "showbackground": true,
            "ticks": "",
            "zerolinecolor": "#C8D4E3"
           },
           "zaxis": {
            "backgroundcolor": "rgb(17,17,17)",
            "gridcolor": "#506784",
            "gridwidth": 2,
            "linecolor": "#506784",
            "showbackground": true,
            "ticks": "",
            "zerolinecolor": "#C8D4E3"
           }
          },
          "shapedefaults": {
           "line": {
            "color": "#f2f5fa"
           }
          },
          "sliderdefaults": {
           "bgcolor": "#C8D4E3",
           "bordercolor": "rgb(17,17,17)",
           "borderwidth": 1,
           "tickwidth": 0
          },
          "ternary": {
           "aaxis": {
            "gridcolor": "#506784",
            "linecolor": "#506784",
            "ticks": ""
           },
           "baxis": {
            "gridcolor": "#506784",
            "linecolor": "#506784",
            "ticks": ""
           },
           "bgcolor": "rgb(17,17,17)",
           "caxis": {
            "gridcolor": "#506784",
            "linecolor": "#506784",
            "ticks": ""
           }
          },
          "title": {
           "x": 0.05
          },
          "updatemenudefaults": {
           "bgcolor": "#506784",
           "borderwidth": 0
          },
          "xaxis": {
           "automargin": true,
           "gridcolor": "#283442",
           "linecolor": "#506784",
           "ticks": "",
           "title": {
            "standoff": 15
           },
           "zerolinecolor": "#283442",
           "zerolinewidth": 2
          },
          "yaxis": {
           "automargin": true,
           "gridcolor": "#283442",
           "linecolor": "#506784",
           "ticks": "",
           "title": {
            "standoff": 15
           },
           "zerolinecolor": "#283442",
           "zerolinewidth": 2
          }
         }
        },
        "title": {
         "text": "Correlation Matrix for Numerical Columns and Diagnosis"
        },
        "xaxis": {
         "anchor": "y",
         "autorange": true,
         "domain": [
          0,
          1
         ],
         "range": [
          -0.5,
          15.5
         ],
         "type": "category"
        },
        "yaxis": {
         "anchor": "x",
         "autorange": true,
         "domain": [
          0,
          1
         ],
         "range": [
          15.5,
          -0.5
         ],
         "type": "category"
        }
       }
      },
      "image/png": "[encoded data removed]",
      "text/html": [
       "<div>                            <div id=\"98bcefbd-46a2-4cac-b7fb-f02cf37a64ab\" class=\"plotly-graph-div\" style=\"height:600px; width:100%;\"></div>            <script type=\"text/javascript\">                require([\"plotly\"], function(Plotly) {                    window.PLOTLYENV=window.PLOTLYENV || {};                                    if (document.getElementById(\"98bcefbd-46a2-4cac-b7fb-f02cf37a64ab\")) {                    Plotly.newPlot(                        \"98bcefbd-46a2-4cac-b7fb-f02cf37a64ab\",                        [{\"coloraxis\":\"coloraxis\",\"name\":\"0\",\"texttemplate\":\"%{z:.2f}\",\"x\":[\"Age\",\"BMI\",\"AlcoholConsumption\",\"PhysicalActivity\",\"DietQuality\",\"SleepQuality\",\"SystolicBP\",\"DiastolicBP\",\"CholesterolTotal\",\"CholesterolLDL\",\"CholesterolHDL\",\"CholesterolTriglycerides\",\"MMSE\",\"FunctionalAssessment\",\"ADL\",\"Diagnosis\"],\"y\":[\"Age\",\"BMI\",\"AlcoholConsumption\",\"PhysicalActivity\",\"DietQuality\",\"SleepQuality\",\"SystolicBP\",\"DiastolicBP\",\"CholesterolTotal\",\"CholesterolLDL\",\"CholesterolHDL\",\"CholesterolTriglycerides\",\"MMSE\",\"FunctionalAssessment\",\"ADL\",\"Diagnosis\"],\"z\":[[1.0,-0.03971925687239052,0.016607975090032253,-0.02534980080739061,-0.028535213659636932,0.02659497880322621,-0.0063582992638926035,-0.013598337022655236,0.011126485033830128,0.03402355231687712,-0.008957894528916582,0.01245885022319723,-0.006355892435727532,0.030175767390223252,-0.049602293000758295,-0.013528171628581356],[-0.03971925687239052,1.0,-0.03191481567143988,-0.008368419954652534,0.019818304884405308,0.017470135056009296,-0.030698440953762597,-0.020491142681899537,-0.009696590178321281,0.05021744650977647,0.015384971475964156,0.002085561618059373,-0.005672475956798834,-0.016082620595260787,0.019417823937949705,0.01834974317955167],[0.016607975090032253,-0.03191481567143988,1.0,0.016680604064877463,0.01312173784835204,-0.0003241214397330861,-0.03089055545412527,-0.027084372452344817,-0.03300576535270207,-0.01956876364763274,-0.02062936478860538,0.026408184326810403,-0.01955809146129296,-0.03676477244819086,0.013593491746062256,-0.0026031676162593426],[-0.02534980080739061,-0.008368419954652534,0.016680604064877463,1.0,0.005713502402631607,-0.007441018054434996,-0.0008621286903567755,-0.0022549412230590455,0.037058384036018174,0.020250742330663582,-0.009264851077367669,0.02877262184896052,0.0019729164495076307,-0.0013311133708194967,-0.019685422532795066,-0.008167466496212509],[-0.028535213659636932,0.019818304884405308,0.01312173784835204,0.005713502402631607,1.0,0.053598717412978045,-0.007350228033041781,0.007262513235090388,-0.03050557254559802,-0.007954788634393181,0.0031868115569351286,0.03214944241919501,0.025490098697709514,0.021995011740066003,-0.0034096252632629534,0.006145748258178512],[0.02659497880322621,0.017470135056009296,-0.0003241214397330861,-0.007441018054434996,0.053598717412978045,1.0,-0.013345229895177804,0.01022778905899062,0.046126364263019574,0.0054460471316384535,0.047158905118973415,0.013892647980557381,0.01686154147338799,0.03993617056004527,-0.0031522361408029003,-0.04904591291345291],[-0.0063582992638926035,-0.030698440953762597,-0.03089055545412527,-0.0008621286903567755,-0.007350228033041781,-0.013345229895177804,1.0,-0.00033129739657713467,0.014090612809811436,-0.020653533881928126,-0.008470848592535683,-0.028209679620743285,0.021096738294304602,0.03342388272309016,0.014171734799771884,-0.02002329228648297],[-0.013598337022655236,-0.020491142681899537,-0.027084372452344817,-0.0022549412230590455,0.007262513235090388,0.01022778905899062,-0.00033129739657713467,1.0,0.023073118073801357,-0.014643681424066302,-0.005058117216983359,0.009965571832272035,-0.018721914206195973,0.011167117126569807,0.022704289324825114,0.019875997273822665],[0.011126485033830128,-0.009696590178321281,-0.03300576535270207,0.037058384036018174,-0.03050557254559802,0.046126364263019574,0.014090612809811436,0.023073118073801357,1.0,0.006686674449150029,-0.005715182336397525,-0.010027846344564106,-0.019130001393497256,-0.0267433028550502,0.023811057841034527,-0.0025364356326017267],[0.03402355231687712,0.05021744650977647,-0.01956876364763274,0.020250742330663582,-0.007954788634393181,0.0054460471316384535,-0.020653533881928126,-0.014643681424066302,0.006686674449150029,1.0,-0.013711113492954246,-0.028643166304047507,0.005313755573502818,-0.036644519977770455,-0.0068910463987262895,-0.0005093193813581574],[-0.008957894528916582,0.015384971475964156,-0.02062936478860538,-0.009264851077367669,0.0031868115569351286,0.047158905118973415,-0.008470848592535683,-0.005058117216983359,-0.005715182336397525,-0.013711113492954246,1.0,0.0265788295744343,-0.003321054286160693,0.00834179699154604,-0.015548213577636723,0.05666299605106007],[0.01245885022319723,0.002085561618059373,0.026408184326810403,0.02877262184896052,0.03214944241919501,0.013892647980557381,-0.028209679620743285,0.009965571832272035,-0.010027846344564106,-0.028643166304047507,0.0265788295744343,1.0,0.008881814795949409,-0.027501675193050287,0.04609370772470729,0.03286136283263825],[-0.006355892435727532,-0.005672475956798834,-0.01955809146129296,0.0019729164495076307,0.025490098697709514,0.01686154147338799,0.021096738294304602,-0.018721914206195973,-0.019130001393497256,0.005313755573502818,-0.003321054286160693,0.008881814795949409,1.0,0.02270674310198866,0.0115071544488228,-0.23269327629526418],[0.030175767390223252,-0.016082620595260787,-0.03676477244819086,-0.0013311133708194967,0.021995011740066003,0.03993617056004527,0.03342388272309016,0.011167117126569807,-0.0267433028550502,-0.036644519977770455,0.00834179699154604,-0.027501675193050287,0.02270674310198866,1.0,0.04170880612892814,-0.37384408760249155],[-0.049602293000758295,0.019417823937949705,0.013593491746062256,-0.019685422532795066,-0.0034096252632629534,-0.0031522361408029003,0.014171734799771884,0.022704289324825114,0.023811057841034527,-0.0068910463987262895,-0.015548213577636723,0.04609370772470729,0.0115071544488228,0.04170880612892814,1.0,-0.3216861021210505],[-0.013528171628581356,0.01834974317955167,-0.0026031676162593426,-0.008167466496212509,0.006145748258178512,-0.04904591291345291,-0.02002329228648297,0.019875997273822665,-0.0025364356326017267,-0.0005093193813581574,0.05666299605106007,0.03286136283263825,-0.23269327629526418,-0.37384408760249155,-0.3216861021210505,1.0]],\"type\":\"heatmap\",\"xaxis\":\"x\",\"yaxis\":\"y\",\"hovertemplate\":\"x: %{x}\\u003cbr\\u003ey: %{y}\\u003cbr\\u003ecolor: %{z}\\u003cextra\\u003e\\u003c\\u002fextra\\u003e\"}],                        {\"template\":{\"data\":{\"barpolar\":[{\"marker\":{\"line\":{\"color\":\"rgb(17,17,17)\",\"width\":0.5},\"pattern\":{\"fillmode\":\"overlay\",\"size\":10,\"solidity\":0.2}},\"type\":\"barpolar\"}],\"bar\":[{\"error_x\":{\"color\":\"#f2f5fa\"},\"error_y\":{\"color\":\"#f2f5fa\"},\"marker\":{\"line\":{\"color\":\"rgb(17,17,17)\",\"width\":0.5},\"pattern\":{\"fillmode\":\"overlay\",\"size\":10,\"solidity\":0.2}},\"type\":\"bar\"}],\"carpet\":[{\"aaxis\":{\"endlinecolor\":\"#A2B1C6\",\"gridcolor\":\"#506784\",\"linecolor\":\"#506784\",\"minorgridcolor\":\"#506784\",\"startlinecolor\":\"#A2B1C6\"},\"baxis\":{\"endlinecolor\":\"#A2B1C6\",\"gridcolor\":\"#506784\",\"linecolor\":\"#506784\",\"minorgridcolor\":\"#506784\",\"startlinecolor\":\"#A2B1C6\"},\"type\":\"carpet\"}],\"choropleth\":[{\"colorbar\":{\"outlinewidth\":0,\"ticks\":\"\"},\"type\":\"choropleth\"}],\"contourcarpet\":[{\"colorbar\":{\"outlinewidth\":0,\"ticks\":\"\"},\"type\":\"contourcarpet\"}],\"contour\":[{\"colorbar\":{\"outlinewidth\":0,\"ticks\":\"\"},\"colorscale\":[[0.0,\"#0d0887\"],[0.1111111111111111,\"#46039f\"],[0.2222222222222222,\"#7201a8\"],[0.3333333333333333,\"#9c179e\"],[0.4444444444444444,\"#bd3786\"],[0.5555555555555556,\"#d8576b\"],[0.6666666666666666,\"#ed7953\"],[0.7777777777777778,\"#fb9f3a\"],[0.8888888888888888,\"#fdca26\"],[1.0,\"#f0f921\"]],\"type\":\"contour\"}],\"heatmapgl\":[{\"colorbar\":{\"outlinewidth\":0,\"ticks\":\"\"},\"colorscale\":[[0.0,\"#0d0887\"],[0.1111111111111111,\"#46039f\"],[0.2222222222222222,\"#7201a8\"],[0.3333333333333333,\"#9c179e\"],[0.4444444444444444,\"#bd3786\"],[0.5555555555555556,\"#d8576b\"],[0.6666666666666666,\"#ed7953\"],[0.7777777777777778,\"#fb9f3a\"],[0.8888888888888888,\"#fdca26\"],[1.0,\"#f0f921\"]],\"type\":\"heatmapgl\"}],\"heatmap\":[{\"colorbar\":{\"outlinewidth\":0,\"ticks\":\"\"},\"colorscale\":[[0.0,\"#0d0887\"],[0.1111111111111111,\"#46039f\"],[0.2222222222222222,\"#7201a8\"],[0.3333333333333333,\"#9c179e\"],[0.4444444444444444,\"#bd3786\"],[0.5555555555555556,\"#d8576b\"],[0.6666666666666666,\"#ed7953\"],[0.7777777777777778,\"#fb9f3a\"],[0.8888888888888888,\"#fdca26\"],[1.0,\"#f0f921\"]],\"type\":\"heatmap\"}],\"histogram2dcontour\":[{\"colorbar\":{\"outlinewidth\":0,\"ticks\":\"\"},\"colorscale\":[[0.0,\"#0d0887\"],[0.1111111111111111,\"#46039f\"],[0.2222222222222222,\"#7201a8\"],[0.3333333333333333,\"#9c179e\"],[0.4444444444444444,\"#bd3786\"],[0.5555555555555556,\"#d8576b\"],[0.6666666666666666,\"#ed7953\"],[0.7777777777777778,\"#fb9f3a\"],[0.8888888888888888,\"#fdca26\"],[1.0,\"#f0f921\"]],\"type\":\"histogram2dcontour\"}],\"histogram2d\":[{\"colorbar\":{\"outlinewidth\":0,\"ticks\":\"\"},\"colorscale\":[[0.0,\"#0d0887\"],[0.1111111111111111,\"#46039f\"],[0.2222222222222222,\"#7201a8\"],[0.3333333333333333,\"#9c179e\"],[0.4444444444444444,\"#bd3786\"],[0.5555555555555556,\"#d8576b\"],[0.6666666666666666,\"#ed7953\"],[0.7777777777777778,\"#fb9f3a\"],[0.8888888888888888,\"#fdca26\"],[1.0,\"#f0f921\"]],\"type\":\"histogram2d\"}],\"histogram\":[{\"marker\":{\"pattern\":{\"fillmode\":\"overlay\",\"size\":10,\"solidity\":0.2}},\"type\":\"histogram\"}],\"mesh3d\":[{\"colorbar\":{\"outlinewidth\":0,\"ticks\":\"\"},\"type\":\"mesh3d\"}],\"parcoords\":[{\"line\":{\"colorbar\":{\"outlinewidth\":0,\"ticks\":\"\"}},\"type\":\"parcoords\"}],\"pie\":[{\"automargin\":true,\"type\":\"pie\"}],\"scatter3d\":[{\"line\":{\"colorbar\":{\"outlinewidth\":0,\"ticks\":\"\"}},\"marker\":{\"colorbar\":{\"outlinewidth\":0,\"ticks\":\"\"}},\"type\":\"scatter3d\"}],\"scattercarpet\":[{\"marker\":{\"colorbar\":{\"outlinewidth\":0,\"ticks\":\"\"}},\"type\":\"scattercarpet\"}],\"scattergeo\":[{\"marker\":{\"colorbar\":{\"outlinewidth\":0,\"ticks\":\"\"}},\"type\":\"scattergeo\"}],\"scattergl\":[{\"marker\":{\"line\":{\"color\":\"#283442\"}},\"type\":\"scattergl\"}],\"scattermapbox\":[{\"marker\":{\"colorbar\":{\"outlinewidth\":0,\"ticks\":\"\"}},\"type\":\"scattermapbox\"}],\"scatterpolargl\":[{\"marker\":{\"colorbar\":{\"outlinewidth\":0,\"ticks\":\"\"}},\"type\":\"scatterpolargl\"}],\"scatterpolar\":[{\"marker\":{\"colorbar\":{\"outlinewidth\":0,\"ticks\":\"\"}},\"type\":\"scatterpolar\"}],\"scatter\":[{\"marker\":{\"line\":{\"color\":\"#283442\"}},\"type\":\"scatter\"}],\"scatterternary\":[{\"marker\":{\"colorbar\":{\"outlinewidth\":0,\"ticks\":\"\"}},\"type\":\"scatterternary\"}],\"surface\":[{\"colorbar\":{\"outlinewidth\":0,\"ticks\":\"\"},\"colorscale\":[[0.0,\"#0d0887\"],[0.1111111111111111,\"#46039f\"],[0.2222222222222222,\"#7201a8\"],[0.3333333333333333,\"#9c179e\"],[0.4444444444444444,\"#bd3786\"],[0.5555555555555556,\"#d8576b\"],[0.6666666666666666,\"#ed7953\"],[0.7777777777777778,\"#fb9f3a\"],[0.8888888888888888,\"#fdca26\"],[1.0,\"#f0f921\"]],\"type\":\"surface\"}],\"table\":[{\"cells\":{\"fill\":{\"color\":\"#506784\"},\"line\":{\"color\":\"rgb(17,17,17)\"}},\"header\":{\"fill\":{\"color\":\"#2a3f5f\"},\"line\":{\"color\":\"rgb(17,17,17)\"}},\"type\":\"table\"}]},\"layout\":{\"annotationdefaults\":{\"arrowcolor\":\"#f2f5fa\",\"arrowhead\":0,\"arrowwidth\":1},\"autotypenumbers\":\"strict\",\"coloraxis\":{\"colorbar\":{\"outlinewidth\":0,\"ticks\":\"\"}},\"colorscale\":{\"diverging\":[[0,\"#8e0152\"],[0.1,\"#c51b7d\"],[0.2,\"#de77ae\"],[0.3,\"#f1b6da\"],[0.4,\"#fde0ef\"],[0.5,\"#f7f7f7\"],[0.6,\"#e6f5d0\"],[0.7,\"#b8e186\"],[0.8,\"#7fbc41\"],[0.9,\"#4d9221\"],[1,\"#276419\"]],\"sequential\":[[0.0,\"#0d0887\"],[0.1111111111111111,\"#46039f\"],[0.2222222222222222,\"#7201a8\"],[0.3333333333333333,\"#9c179e\"],[0.4444444444444444,\"#bd3786\"],[0.5555555555555556,\"#d8576b\"],[0.6666666666666666,\"#ed7953\"],[0.7777777777777778,\"#fb9f3a\"],[0.8888888888888888,\"#fdca26\"],[1.0,\"#f0f921\"]],\"sequentialminus\":[[0.0,\"#0d0887\"],[0.1111111111111111,\"#46039f\"],[0.2222222222222222,\"#7201a8\"],[0.3333333333333333,\"#9c179e\"],[0.4444444444444444,\"#bd3786\"],[0.5555555555555556,\"#d8576b\"],[0.6666666666666666,\"#ed7953\"],[0.7777777777777778,\"#fb9f3a\"],[0.8888888888888888,\"#fdca26\"],[1.0,\"#f0f921\"]]},\"colorway\":[\"#636efa\",\"#EF553B\",\"#00cc96\",\"#ab63fa\",\"#FFA15A\",\"#19d3f3\",\"#FF6692\",\"#B6E880\",\"#FF97FF\",\"#FECB52\"],\"font\":{\"color\":\"#f2f5fa\"},\"geo\":{\"bgcolor\":\"rgb(17,17,17)\",\"lakecolor\":\"rgb(17,17,17)\",\"landcolor\":\"rgb(17,17,17)\",\"showlakes\":true,\"showland\":true,\"subunitcolor\":\"#506784\"},\"hoverlabel\":{\"align\":\"left\"},\"hovermode\":\"closest\",\"mapbox\":{\"style\":\"dark\"},\"paper_bgcolor\":\"rgb(17,17,17)\",\"plot_bgcolor\":\"rgb(17,17,17)\",\"polar\":{\"angularaxis\":{\"gridcolor\":\"#506784\",\"linecolor\":\"#506784\",\"ticks\":\"\"},\"bgcolor\":\"rgb(17,17,17)\",\"radialaxis\":{\"gridcolor\":\"#506784\",\"linecolor\":\"#506784\",\"ticks\":\"\"}},\"scene\":{\"xaxis\":{\"backgroundcolor\":\"rgb(17,17,17)\",\"gridcolor\":\"#506784\",\"gridwidth\":2,\"linecolor\":\"#506784\",\"showbackground\":true,\"ticks\":\"\",\"zerolinecolor\":\"#C8D4E3\"},\"yaxis\":{\"backgroundcolor\":\"rgb(17,17,17)\",\"gridcolor\":\"#506784\",\"gridwidth\":2,\"linecolor\":\"#506784\",\"showbackground\":true,\"ticks\":\"\",\"zerolinecolor\":\"#C8D4E3\"},\"zaxis\":{\"backgroundcolor\":\"rgb(17,17,17)\",\"gridcolor\":\"#506784\",\"gridwidth\":2,\"linecolor\":\"#506784\",\"showbackground\":true,\"ticks\":\"\",\"zerolinecolor\":\"#C8D4E3\"}},\"shapedefaults\":{\"line\":{\"color\":\"#f2f5fa\"}},\"sliderdefaults\":{\"bgcolor\":\"#C8D4E3\",\"bordercolor\":\"rgb(17,17,17)\",\"borderwidth\":1,\"tickwidth\":0},\"ternary\":{\"aaxis\":{\"gridcolor\":\"#506784\",\"linecolor\":\"#506784\",\"ticks\":\"\"},\"baxis\":{\"gridcolor\":\"#506784\",\"linecolor\":\"#506784\",\"ticks\":\"\"},\"bgcolor\":\"rgb(17,17,17)\",\"caxis\":{\"gridcolor\":\"#506784\",\"linecolor\":\"#506784\",\"ticks\":\"\"}},\"title\":{\"x\":0.05},\"updatemenudefaults\":{\"bgcolor\":\"#506784\",\"borderwidth\":0},\"xaxis\":{\"automargin\":true,\"gridcolor\":\"#283442\",\"linecolor\":\"#506784\",\"ticks\":\"\",\"title\":{\"standoff\":15},\"zerolinecolor\":\"#283442\",\"zerolinewidth\":2},\"yaxis\":{\"automargin\":true,\"gridcolor\":\"#283442\",\"linecolor\":\"#506784\",\"ticks\":\"\",\"title\":{\"standoff\":15},\"zerolinecolor\":\"#283442\",\"zerolinewidth\":2}}},\"xaxis\":{\"anchor\":\"y\",\"domain\":[0.0,1.0]},\"yaxis\":{\"anchor\":\"x\",\"domain\":[0.0,1.0],\"autorange\":\"reversed\"},\"coloraxis\":{\"colorscale\":[[0.0,\"rgb(255,255,217)\"],[0.125,\"rgb(237,248,177)\"],[0.25,\"rgb(199,233,180)\"],[0.375,\"rgb(127,205,187)\"],[0.5,\"rgb(65,182,196)\"],[0.625,\"rgb(29,145,192)\"],[0.75,\"rgb(34,94,168)\"],[0.875,\"rgb(37,52,148)\"],[1.0,\"rgb(8,29,88)\"]]},\"title\":{\"text\":\"Correlation Matrix for Numerical Columns and Diagnosis\"},\"margin\":{\"l\":0,\"r\":0,\"t\":50,\"b\":0},\"plot_bgcolor\":\"rgba(0,0,0,0)\",\"paper_bgcolor\":\"rgba(0,0,0,0)\",\"height\":600,\"hovermode\":\"closest\"},                        {\"responsive\": true}                    ).then(function(){\n",
       "                            \n",
       "var gd = document.getElementById('98bcefbd-46a2-4cac-b7fb-f02cf37a64ab');\n",
       "var x = new MutationObserver(function (mutations, observer) {{\n",
       "        var display = window.getComputedStyle(gd).display;\n",
       "        if (!display || display === 'none') {{\n",
       "            console.log([gd, 'removed!']);\n",
       "            Plotly.purge(gd);\n",
       "            observer.disconnect();\n",
       "        }}\n",
       "}});\n",
       "\n",
       "// Listen for the removal of the full notebook cells\n",
       "var notebookContainer = gd.closest('#notebook-container');\n",
       "if (notebookContainer) {{\n",
       "    x.observe(notebookContainer, {childList: true});\n",
       "}}\n",
       "\n",
       "// Listen for the clearing of the current output cell\n",
       "var outputEl = gd.closest('.output');\n",
       "if (outputEl) {{\n",
       "    x.observe(outputEl, {childList: true});\n",
       "}}\n",
       "\n",
       "                        })                };                });            </script>        </div>"
      ]
     },
     "metadata": {},
     "output_type": "display_data"
    }
   ],
   "source": [
    "numerical_columns = [column for column in alz_dis_df_train.columns if alz_dis_df_train[column].nunique() > 4] + [\"Diagnosis\"]\n",
    "\n",
    "num_data_df = alz_dis_df_train[numerical_columns]\n",
    "\n",
    "num_corr = num_data_df.corr()\n",
    "\n",
    "htmp_num = plotly.express.imshow(\n",
    "    num_corr,\n",
    "    aspect=\"auto\",\n",
    "    title=\"Correlation Matrix for Numerical Columns and Diagnosis\",\n",
    "    text_auto=\".2f\",\n",
    "    color_continuous_scale=\"YlGnBu\"\n",
    ")\n",
    "\n",
    "htmp_num.update_layout(\n",
    "    plot_bgcolor=\"rgba(0,0,0,0)\",\n",
    "    paper_bgcolor=\"rgba(0,0,0,0)\",\n",
    "    margin={\"l\":0,\"r\":0,\"t\":50,\"b\":0},\n",
    "    height=600,\n",
    "    template=\"plotly_dark\",\n",
    "    hovermode=\"closest\"\n",
    ")\n",
    "\n",
    "htmp_num.show()"
   ]
  },
  {
   "cell_type": "markdown",
   "id": "06f6840e-adf0-44c1-81c2-b9917b3c9f3f",
   "metadata": {},
   "source": [
    "The correlation matrix of numerical columns against `Diagnosis` also highlights atleast two columns which are linearly independent of the target label - Leading to redundant features that would need to be eliminated in our **FEATURE ENGINEERING** section."
   ]
  },
  {
   "cell_type": "markdown",
   "id": "90a69bc3-02be-4985-82f1-249d43d7b1d2",
   "metadata": {},
   "source": [
    "# 5. Data Preprocessing \n",
    "\n",
    "In This section we will further segregate our **Train**, **Validation** and **Test** Dataframes into `Features` & `Labels`. This process enables to apply over- and under-sampling techniques, encode, scale our data and finally prepare the Machine Leearning models without causing data leakages in the process. "
   ]
  },
  {
   "cell_type": "code",
   "execution_count": 81,
   "id": "3f9514ce-cbd7-447d-b802-524757bb5b33",
   "metadata": {},
   "outputs": [
    {
     "name": "stdout",
     "output_type": "stream",
     "text": [
      "Training Features Shape: (1552, 32)\n",
      "Validation Features Shape: (274, 32)\n",
      "Testing Features Shape: (323, 32)\n",
      "Training Labels Shape: (1552,)\n",
      "Validation Labels Shape: (274,)\n",
      "Testing Labels Shape: (323,)\n"
     ]
    }
   ],
   "source": [
    "numpy.random.seed(42)\n",
    "\n",
    "features_train = alz_dis_df_train.drop(\"Diagnosis\", axis=1)\n",
    "labels_train = alz_dis_df_train.Diagnosis\n",
    "\n",
    "features_validation = alz_dis_df_validation.drop(\"Diagnosis\", axis=1)\n",
    "labels_validation = alz_dis_df_validation.Diagnosis\n",
    "\n",
    "features_test = alz_dis_df_test.drop(\"Diagnosis\", axis=1)\n",
    "labels_test = alz_dis_df_test.Diagnosis\n",
    "\n",
    "print(\"Training Features Shape: {0}\".format(features_train.shape))\n",
    "print(\"Validation Features Shape: {0}\".format(features_validation.shape))\n",
    "print(\"Testing Features Shape: {0}\".format(features_test.shape))\n",
    "print(\"Training Labels Shape: {0}\".format(labels_train.shape))\n",
    "print(\"Validation Labels Shape: {0}\".format(labels_validation.shape))\n",
    "print(\"Testing Labels Shape: {0}\".format(labels_test.shape))"
   ]
  },
  {
   "cell_type": "markdown",
   "id": "25d75b75-e8ab-4c24-9fda-6ceb45b7f224",
   "metadata": {},
   "source": [
    "### 5.1 Selecting the Best Features\n",
    "\n",
    "As we saw previously with our correlation matrices - not all features have a significant impact towards the target label. In essence, it is best decided to select the best features that would have allow our ML models to better predict based on our validation and eventually our test sets. For this reason, I have used the `SelectKBest` as a feature selection method with a `f_classif` scoring function to produce features with the most statistical significance between features and **Diagnosis**"
   ]
  },
  {
   "cell_type": "code",
   "execution_count": 84,
   "id": "d257145a-bf1e-4689-ab88-eddecced4f48",
   "metadata": {},
   "outputs": [],
   "source": [
    "optimum_features = SelectKBest(score_func=f_classif, k=15)\n",
    "features_transform = optimum_features.fit(features_train, labels_train)\n",
    "\n",
    "features_cols = features_train.columns[features_transform.get_support(indices=True)]\n",
    "\n",
    "features_train_op = features_train[features_cols]\n",
    "features_validation_op = features_validation[features_cols]\n",
    "features_test_op = features_test[features_cols]"
   ]
  },
  {
   "cell_type": "markdown",
   "id": "aeee5743-0b0d-4cf6-a678-ea8f7632be31",
   "metadata": {},
   "source": [
    "# 6. Feature Engineering"
   ]
  },
  {
   "cell_type": "code",
   "execution_count": 85,
   "id": "d20ae187-281f-4ef9-b9df-bc568bfc2bab",
   "metadata": {},
   "outputs": [
    {
     "name": "stdout",
     "output_type": "stream",
     "text": [
      "Trained features shape: (1552, 26)\n",
      "Validation features shape: (274, 26)\n",
      "Test Features shape: (323, 26)\n"
     ]
    }
   ],
   "source": [
    "cat_encoding_features = [column for column in features_train_op.columns if set(features_train_op[column].unique()) <= {0,1,2,3}]\n",
    "numerical_scaling_features = [column for column in features_train_op.columns if features_train_op[column].nunique() > 4] \n",
    "\n",
    "#numerical_attributes = features_train_op.select_dtypes(include=[\"int64\", \"float64\"]).columns\n",
    "\n",
    "z_scaler = StandardScaler()\n",
    "hot_encoder = OneHotEncoder()\n",
    "\n",
    "transformed_columns = ColumnTransformer(\n",
    "    [\n",
    "        (\"one_hot_enc\", hot_encoder, cat_encoding_features),\n",
    "        (\"std_scale\", z_scaler, numerical_scaling_features),\n",
    "        #(\"stdscale\", z_scaler, numerical_attributes)\n",
    "    ]\n",
    ")\n",
    "\n",
    "transformed_columns.fit(features_train_op)\n",
    "\n",
    "features_train_op = transformed_columns.transform(features_train_op)\n",
    "features_validation_op = transformed_columns.transform(features_validation_op)\n",
    "features_test_op = transformed_columns.transform(features_test_op)\n",
    "\n",
    "print(\"Trained features shape: {0}\".format(features_train_op.shape))\n",
    "print(\"Validation features shape: {0}\".format(features_validation_op.shape))\n",
    "print(\"Test Features shape: {0}\".format(features_test_op.shape))"
   ]
  },
  {
   "cell_type": "markdown",
   "id": "0e56e8c5-f04d-48b9-bc5c-a63563f8a1ff",
   "metadata": {},
   "source": [
    "In our dataset we performed encoding of our categorical features using `OneHotEncoding()` and numerical normalization using `StandardScaler()` so that our models are able to build the right relationships and provide precise and better results that would have otherwise been affected due to categorization and improve speed of model training through standardization."
   ]
  },
  {
   "cell_type": "markdown",
   "id": "70f1a40f-7d9e-408f-9bb1-8f11ae1fba5d",
   "metadata": {},
   "source": [
    "# 7. Model Training and Hyperparameter Tuning\n",
    "\n",
    "Part of the Binary Classification efficacy is the selection of the most precise model to estimate a given patient's Alzheimer's diagnosis given the set of features. For this assessment, I will provide a summary of the evaluation metrics processed for the models during validation and testing.\n",
    "\n",
    "Additionally, Hyperparameter Tuning will be conducted on the models using `GridSearchCV()` to determine the best hyperparameters values for our model, which will be validated using `features_validation` and `labels_validation`. Finally, we will assess our model's performance on the test set.\n",
    "\n",
    "Our Model Training will utilize the following Machine Learning Algorithms:\n",
    "\n",
    "1. LogisticRegression\n",
    "2. RandomForestClassifier\n",
    "3. GradientBoostingClassifier"
   ]
  },
  {
   "cell_type": "markdown",
   "id": "37d17d68-955e-41b8-ba35-5e935011e564",
   "metadata": {},
   "source": [
    "### 7.1 Model Parameters and Instantiation"
   ]
  },
  {
   "cell_type": "code",
   "execution_count": 28,
   "id": "6d1527bb-38d9-450f-a05b-446bee6f7e6f",
   "metadata": {},
   "outputs": [],
   "source": [
    "log_regression_params = {\n",
    "    \"C\": numpy.logspace(-4, 4, 20),\n",
    "    \"penalty\": [\"l1\", \"l2\"],\n",
    "    \"solver\": [\"lbfgs\", \"liblinear\", \"saga\"],\n",
    "    \"max_iter\": [1000]\n",
    "}\n",
    "\n",
    "rfc_params = {\n",
    "    \"n_estimators\": numpy.arange(50, 200, 50),\n",
    "    \"max_depth\": [None, 3, 5, 10],\n",
    "    \"min_samples_split\": [2, 5, 10],\n",
    "    \"min_samples_leaf\": [1, 2, 4],\n",
    "    \"bootstrap\": [True, False]\n",
    "}\n",
    "\n",
    "gbc_params = {\n",
    "    \"n_estimators\": numpy.arange(50, 200, 50),\n",
    "    \"learning_rate\": [0.001, 0.01, 0.1],\n",
    "    \"max_depth\": [None, 3, 5, 10],\n",
    "    \"min_samples_split\": [2, 5, 10],\n",
    "    \"min_samples_leaf\": [1, 2, 4],\n",
    "    \"subsample\": [0.8, 1.0]\n",
    "}"
   ]
  },
  {
   "cell_type": "code",
   "execution_count": 29,
   "id": "a8a545ec-d0a6-4a6a-9ea8-63813a5cf979",
   "metadata": {},
   "outputs": [],
   "source": [
    "def model_pred_eval(classifier, f_train: pandas.DataFrame, f_validate: pandas.DataFrame, l_train: pandas.Series, l_validate: pandas.Series, params: dict) -> dict:\n",
    "    '''\n",
    "    Instantiates a classification model against a GridSearchCV parameters.\n",
    "\n",
    "    f_train: The training features dataframe\n",
    "    f_validate: The validation features dataframe\n",
    "    l_train: Pandas.Series object of the target label for training\n",
    "    l_validate: Pandas.Series object of the target label for validation\n",
    "\n",
    "    Returns:\n",
    "    Outputs the evaluation of a GridSearchCV object with the optimum parameters provided,\n",
    "    classification_report, confusion_matrix and dictionary object containing classification metrics\n",
    "    '''\n",
    "    numpy.random.seed(42)\n",
    "\n",
    "    clf_model = classifier()\n",
    "    gscv =GridSearchCV(estimator=clf_model, param_grid=params, cv=5, scoring=\"accuracy\", n_jobs=-1)\n",
    "    gscv.fit(f_train, l_train)\n",
    "\n",
    "    print(f\"Best parameters combination: {gscv.best_params_}\")\n",
    "    print(f\"Mean Cross Validation Score: {gscv.best_score_}\")\n",
    "\n",
    "    optimum_clf = gscv.best_estimator_\n",
    "    validation_preds = optimum_clf.predict(f_validate)\n",
    "\n",
    "    \n",
    "    print(f\"Validation dataset accuracy: {accuracy_score(l_validate, validation_preds)}\")\n",
    "    print(f\"Classification Report:\\n{classification_report(l_validate, validation_preds)}\")\n",
    "\n",
    "    print(\"---------------Confusion Matrix Results------------------\")\n",
    "    conf_mtx = confusion_matrix(l_validate, validation_preds)\n",
    "    seaborn.heatmap(data=conf_mtx, annot=True, cmap=\"cividis\", cbar=\"False\", fmt=\"d\")\n",
    "    pyplot.xlabel(\"Actual Diagnosis\")\n",
    "    pyplot.ylabel(\"Predicted Diagnosis\")\n",
    "    \n",
    "    \n",
    "\n",
    "    return pyplot.show()"
   ]
  },
  {
   "cell_type": "markdown",
   "id": "14847105-3b07-49c5-9a5c-b3f0dfb0dd09",
   "metadata": {},
   "source": [
    "### 7.3 Logistic Regression"
   ]
  },
  {
   "cell_type": "code",
   "execution_count": 36,
   "id": "e25298ee-885e-44ef-afe3-a6eddf663844",
   "metadata": {},
   "outputs": [
    {
     "name": "stdout",
     "output_type": "stream",
     "text": [
      "Best parameters combination: {'C': np.float64(0.615848211066026), 'max_iter': 1000, 'penalty': 'l1', 'solver': 'liblinear'}\n",
      "Mean Cross Validation Score: 0.8518079037444248\n",
      "Validation dataset accuracy: 0.8138686131386861\n",
      "Classification Report:\n",
      "              precision    recall  f1-score   support\n",
      "\n",
      "           0       0.85      0.88      0.86       186\n",
      "           1       0.72      0.68      0.70        88\n",
      "\n",
      "    accuracy                           0.81       274\n",
      "   macro avg       0.79      0.78      0.78       274\n",
      "weighted avg       0.81      0.81      0.81       274\n",
      "\n",
      "---------------Confusion Matrix Results------------------\n"
     ]
    },
    {
     "name": "stderr",
     "output_type": "stream",
     "text": [
      "/opt/miniconda3/lib/python3.12/site-packages/sklearn/model_selection/_search.py:1052: UserWarning:\n",
      "\n",
      "One or more of the test scores are non-finite: [       nan 0.64304118 0.64304118 0.64304118 0.64304118 0.64304118\n",
      "        nan 0.64304118 0.64304118 0.64304118 0.64755108 0.64304118\n",
      "        nan 0.64304118 0.64304118 0.64304118 0.67912665 0.64304118\n",
      "        nan 0.64304118 0.64304118 0.71520589 0.75386578 0.71520589\n",
      "        nan 0.71003423 0.64304118 0.79574318 0.80670262 0.79574318\n",
      "        nan 0.80347682 0.76804896 0.83248003 0.83634685 0.83248003\n",
      "        nan 0.83183487 0.83183487 0.84987242 0.84987242 0.84987242\n",
      "        nan 0.84408256 0.84408256 0.84729592 0.84729592 0.84729592\n",
      "        nan 0.84471943 0.84471943 0.85180583 0.85180583 0.85116067\n",
      "        nan 0.8518079  0.8518079  0.84987864 0.84923348 0.84923348\n",
      "        nan 0.85052173 0.85052173 0.84859247 0.84859247 0.84859247\n",
      "        nan 0.84987864 0.84987864 0.84859247 0.84859247 0.84859247\n",
      "        nan 0.84923556 0.84923556 0.84859247 0.84859247 0.84859247\n",
      "        nan 0.84923556 0.84923556 0.84859247 0.84859247 0.84859247\n",
      "        nan 0.84923556 0.84923556 0.84859247 0.84923556 0.84923556\n",
      "        nan 0.84923556 0.84923556 0.84859247 0.84923556 0.84923556\n",
      "        nan 0.84923556 0.84923556 0.84923556 0.84923556 0.84923556\n",
      "        nan 0.84923556 0.84923556 0.84923556 0.84923556 0.84923556\n",
      "        nan 0.84923556 0.84923556 0.84923556 0.84923556 0.84923556\n",
      "        nan 0.84923556 0.84923556 0.84923556 0.84923556 0.84923556]\n",
      "\n"
     ]
    },
    {
     "data": {
      "image/png": "[encoded data removed]",
      "text/plain": [
       "<Figure size 640x480 with 2 Axes>"
      ]
     },
     "metadata": {},
     "output_type": "display_data"
    }
   ],
   "source": [
    "warnings.filterwarnings(\"ignore\", category=CW)\n",
    "warnings.filterwarnings(\"ignore\", category=FW)\n",
    "numpy.random.seed(42)\n",
    "\n",
    "model_pred_eval(\n",
    "                classifier=LogisticRegression, f_train=features_train_op, \n",
    "                f_validate=features_validation_op, l_train=labels_train, \n",
    "                l_validate=labels_validation, params=log_regression_params\n",
    "               )"
   ]
  },
  {
   "cell_type": "markdown",
   "id": "711991e0-4bec-406f-bbdc-db22f743c8c0",
   "metadata": {},
   "source": [
    "### 7.4 Random Forest Classifier"
   ]
  },
  {
   "cell_type": "code",
   "execution_count": 30,
   "id": "46163200-e84e-4639-86bb-1252b29f53ff",
   "metadata": {},
   "outputs": [
    {
     "name": "stdout",
     "output_type": "stream",
     "text": [
      "Best parameters combination: {'bootstrap': False, 'max_depth': 10, 'min_samples_leaf': 4, 'min_samples_split': 10, 'n_estimators': np.int64(50)}\n",
      "Mean Cross Validation Score: 0.9542433357535526\n",
      "Validation dataset accuracy: 0.9416058394160584\n",
      "Classification Report:\n",
      "              precision    recall  f1-score   support\n",
      "\n",
      "           0       0.95      0.97      0.96       186\n",
      "           1       0.93      0.89      0.91        88\n",
      "\n",
      "    accuracy                           0.94       274\n",
      "   macro avg       0.94      0.93      0.93       274\n",
      "weighted avg       0.94      0.94      0.94       274\n",
      "\n",
      "---------------Confusion Matrix Results------------------\n"
     ]
    },
    {
     "data": {
      "image/png": "[encoded data removed]",
      "text/plain": [
       "<Figure size 640x480 with 2 Axes>"
      ]
     },
     "metadata": {},
     "output_type": "display_data"
    }
   ],
   "source": [
    "numpy.random.seed(42)\n",
    "\n",
    "model_pred_eval(\n",
    "                classifier=RandomForestClassifier, f_train=features_train_op, \n",
    "                f_validate=features_validation_op, l_train=labels_train, \n",
    "                l_validate=labels_validation, params=rfc_params\n",
    "               )"
   ]
  },
  {
   "cell_type": "markdown",
   "id": "e37c6b01-7898-4a34-9b8c-f44cc03c63e3",
   "metadata": {},
   "source": [
    "### 7.5 Gradient Boosting Classifier"
   ]
  },
  {
   "cell_type": "code",
   "execution_count": 31,
   "id": "3385766a-6878-4455-932e-2fb38fb0b9f5",
   "metadata": {},
   "outputs": [
    {
     "name": "stdout",
     "output_type": "stream",
     "text": [
      "Best parameters combination: {'learning_rate': 0.1, 'max_depth': 5, 'min_samples_leaf': 4, 'min_samples_split': 2, 'n_estimators': np.int64(100), 'subsample': 0.8}\n",
      "Mean Cross Validation Score: 0.9529550876465098\n",
      "Validation dataset accuracy: 0.9306569343065694\n",
      "Classification Report:\n",
      "              precision    recall  f1-score   support\n",
      "\n",
      "           0       0.95      0.95      0.95       186\n",
      "           1       0.90      0.89      0.89        88\n",
      "\n",
      "    accuracy                           0.93       274\n",
      "   macro avg       0.92      0.92      0.92       274\n",
      "weighted avg       0.93      0.93      0.93       274\n",
      "\n",
      "---------------Confusion Matrix Results------------------\n"
     ]
    },
    {
     "data": {
      "image/png": "[encoded data removed]",
      "text/plain": [
       "<Figure size 640x480 with 2 Axes>"
      ]
     },
     "metadata": {},
     "output_type": "display_data"
    }
   ],
   "source": [
    "numpy.random.seed(42)\n",
    "\n",
    "model_pred_eval(\n",
    "                classifier=GradientBoostingClassifier, f_train=features_train_op, \n",
    "                f_validate=features_validation_op, l_train=labels_train, \n",
    "                l_validate=labels_validation, params=gbc_params\n",
    "               )"
   ]
  },
  {
   "cell_type": "markdown",
   "id": "ba9d1959-2d08-4569-a488-7181a03bebc1",
   "metadata": {},
   "source": [
    "# 8. Testing The Best Performing Model\n",
    "\n",
    "Based off on the results provided when assessing the performance of the ML models against the validation set, we observe that `RandomForestClassifier` and `GradientBoostingClassifier` performed the best with very similar accuracy, precision, recall and f1_scores. Consequently, I observe that `RandomForestClassifier` achieved a greater f1_score and precision score, particularly when it came to determining the actual diagnosis and therefore, `RandomForestClassifier` will be assessed on the test dataset using the best parameters identified in the previous section."
   ]
  },
  {
   "cell_type": "code",
   "execution_count": 51,
   "id": "9d87489f-cd18-47ab-bdc2-299496b8d093",
   "metadata": {},
   "outputs": [
    {
     "data": {
      "text/html": [
       "<div>\n",
       "<style scoped>\n",
       "    .dataframe tbody tr th:only-of-type {\n",
       "        vertical-align: middle;\n",
       "    }\n",
       "\n",
       "    .dataframe tbody tr th {\n",
       "        vertical-align: top;\n",
       "    }\n",
       "\n",
       "    .dataframe thead th {\n",
       "        text-align: right;\n",
       "    }\n",
       "</style>\n",
       "<table border=\"1\" class=\"dataframe\">\n",
       "  <thead>\n",
       "    <tr style=\"text-align: right;\">\n",
       "      <th></th>\n",
       "      <th>Metric</th>\n",
       "      <th>Score</th>\n",
       "    </tr>\n",
       "  </thead>\n",
       "  <tbody>\n",
       "    <tr>\n",
       "      <th>0</th>\n",
       "      <td>accuracy_score</td>\n",
       "      <td>96.284830</td>\n",
       "    </tr>\n",
       "    <tr>\n",
       "      <th>1</th>\n",
       "      <td>cross_validation</td>\n",
       "      <td>95.102583</td>\n",
       "    </tr>\n",
       "    <tr>\n",
       "      <th>2</th>\n",
       "      <td>recall_score</td>\n",
       "      <td>93.220339</td>\n",
       "    </tr>\n",
       "    <tr>\n",
       "      <th>3</th>\n",
       "      <td>f1_score</td>\n",
       "      <td>94.827586</td>\n",
       "    </tr>\n",
       "  </tbody>\n",
       "</table>\n",
       "</div>"
      ],
      "text/plain": [
       "             Metric      Score\n",
       "0    accuracy_score  96.284830\n",
       "1  cross_validation  95.102583\n",
       "2      recall_score  93.220339\n",
       "3          f1_score  94.827586"
      ]
     },
     "execution_count": 51,
     "metadata": {},
     "output_type": "execute_result"
    }
   ],
   "source": [
    "numpy.random.seed(42)\n",
    "\n",
    "random_forest_classifier = RandomForestClassifier(\n",
    "    n_estimators = 50,\n",
    "    max_depth=10,\n",
    "    min_samples_leaf=4,\n",
    "    min_samples_split=10,\n",
    "    bootstrap=False\n",
    ")\n",
    "\n",
    "random_forest_classifier.fit(features_train_op, labels_train)\n",
    "\n",
    "label_predictions = random_forest_classifier.predict(features_test_op)\n",
    "\n",
    "clf_acc =  accuracy_score(labels_test, label_predictions)\n",
    "clf_cross_val = cross_val_score(estimator=random_forest_classifier,X=features_train_op, y=labels_train, cv=5).mean()\n",
    "clf_recall = recall_score(labels_test, label_predictions)\n",
    "clf_f1_score = f1_score(labels_test, label_predictions)\n",
    "\n",
    "metrics_df = pandas.DataFrame({\n",
    "                                \"Metric\": [\"accuracy_score\", \"cross_validation\", \"recall_score\", \"f1_score\"],\n",
    "                                \"Score\": [clf_acc * 100, clf_cross_val * 100, clf_recall * 100, clf_f1_score * 100]\n",
    "                            })\n",
    "metrics_df.head()"
   ]
  },
  {
   "cell_type": "code",
   "execution_count": 55,
   "id": "e6d1af42-fe3d-4a0b-afa8-042057f77fc9",
   "metadata": {},
   "outputs": [
    {
     "data": {
      "image/png": "[encoded data removed]",
      "text/plain": [
       "<Figure size 640x480 with 1 Axes>"
      ]
     },
     "metadata": {},
     "output_type": "display_data"
    }
   ],
   "source": [
    "roc_curve = RocCurveDisplay.from_estimator(estimator=random_forest_classifier,\n",
    "                               X=features_test_op,\n",
    "                               y=labels_test\n",
    "                              );"
   ]
  },
  {
   "cell_type": "code",
   "execution_count": 58,
   "id": "07782ce9-048d-425d-a8f7-dc2d9b867d8b",
   "metadata": {},
   "outputs": [
    {
     "data": {
      "image/png": "[encoded data removed]",
      "text/plain": [
       "<Figure size 640x480 with 2 Axes>"
      ]
     },
     "metadata": {},
     "output_type": "display_data"
    }
   ],
   "source": [
    "rfc_conf_matrix = confusion_matrix(labels_test, label_predictions)\n",
    "\n",
    "seaborn.heatmap(data=rfc_conf_matrix, annot=True, cmap=\"YlGnBu\", cbar=\"False\", fmt=\"d\")\n",
    "\n",
    "pyplot.xlabel(\"Actual Diagnosis\")\n",
    "pyplot.ylabel(\"Predicted Diagnosis\")\n",
    "    \n",
    "pyplot.show()"
   ]
  },
  {
   "cell_type": "markdown",
   "id": "d6c910ca-8e48-4e01-a037-642f74b275ea",
   "metadata": {},
   "source": [
    "# 9. Conclusion\n",
    "\n",
    "The Alzheimer's dataset is a critical source learning that could precisely segregate and identify Alzheimer's within patients using categorical and numerical lifestyle features. The necessity of possessing a strong performing Machine Learning Model is essential as any minimal inaccuracy could be the cause of delays in treatment, risk of early-onset and increased medical costs for patients and families for last-minute care. To achieve this significant level, the following steps were conducted throughout this pipeline.\n",
    "\n",
    "* Importing the required data management, exploration and visualization libraries in the form of `pandas`, `numpy`, `matplotlib`, `seaborn`, `plotly.express`. This is critical to become an expert on the dataset features and the nature of data present.\n",
    "* **Splitting**, **Data Preprocessing**, **Feature Engineering** through **Scikit-Learn** that enabled us to minimize our features in terms of importance, splitting the data into our train, validation and test sets.\n",
    "* Model Selection and Hyperparameter Tuning through **Scikit-Learn** to establish parameters for each ML model and optimizing their results through brute-force parameter recognition in **GridSearchCV**\n",
    "* Finally Evaluation through **Scikit-Learn.metrics** to determine the efficacy of our dataset. This is achieved through observing the confusion matrix to determine how the model predicted **TP, TN, FN, FP**, the cross-validation, accuracy, recall and f1 scores."
   ]
  },
  {
   "cell_type": "markdown",
   "id": "59cff810-9565-4955-8549-38f3f02dc8b2",
   "metadata": {},
   "source": [
    "# 10. Improvements\n",
    "\n",
    "The improvement of every dataset can be achieved through continuous updating with new patient records, introducing more factors that might have a stronger correlation factor to the target label. Furthermore, continuous iteration of the ML models with Best Feature Selection, iteration with different parameters of each model and testing different models on the dataset can yield a better ML system for better accuracy in diagnosing Alzheimer's."
   ]
  }
 ],
 "metadata": {
  "kernelspec": {
   "display_name": "Python 3 (ipykernel)",
   "language": "python",
   "name": "python3"
  },
  "language_info": {
   "codemirror_mode": {
    "name": "ipython",
    "version": 3
   },
   "file_extension": ".py",
   "mimetype": "text/x-python",
   "name": "python",
   "nbconvert_exporter": "python",
   "pygments_lexer": "ipython3",
   "version": "3.12.3"
  }
 },
 "nbformat": 4,
 "nbformat_minor": 5
}
